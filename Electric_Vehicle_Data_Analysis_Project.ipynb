{
  "cells": [
    {
      "cell_type": "markdown",
      "id": "b5108190-8e5a-42bd-b365-7f0732724f43",
      "metadata": {
        "id": "b5108190-8e5a-42bd-b365-7f0732724f43"
      },
      "source": [
        "#  <span style=\"color:ORANGE\">Electric Vehicle Data Analysis Project</span>\n",
        "\n",
        " In this project, you will analyze a dataset related to electric vehicles (EVs). The dataset contains\n",
        " various features such as electric range, energy consumption, price, and other relevant\n",
        " attributes. Your goal is to conduct a thorough analysis to uncover meaningful insights, tell a\n",
        " compelling story, conduct hypothesis testing and provide actionable recommendations based on\n",
        " the data."
      ]
    },
    {
      "cell_type": "code",
      "execution_count": null,
      "id": "d0e44c3e-0bdf-49b1-85ed-738d2c5b7f9d",
      "metadata": {
        "id": "d0e44c3e-0bdf-49b1-85ed-738d2c5b7f9d"
      },
      "outputs": [],
      "source": [
        "#import libraries\n",
        "import pandas as pd\n",
        "import numpy as np\n",
        "import matplotlib.pyplot as plt\n",
        "import seaborn as sns\n",
        "import scipy.stats as stats"
      ]
    },
    {
      "cell_type": "code",
      "execution_count": null,
      "id": "571ded30-4631-4935-ab22-671ecb545c04",
      "metadata": {
        "id": "571ded30-4631-4935-ab22-671ecb545c04"
      },
      "outputs": [],
      "source": [
        "vehicle_data =pd.read_excel('Fevdataset.xlsx') #pd.read_excel() will reads the data and stores in the vehicle data variable"
      ]
    },
    {
      "cell_type": "code",
      "execution_count": null,
      "id": "696177e3-29ee-45f6-b3e1-a317c7325dec",
      "metadata": {
        "id": "696177e3-29ee-45f6-b3e1-a317c7325dec",
        "outputId": "c1e68fbf-143a-4bbe-85ff-993959247c30"
      },
      "outputs": [
        {
          "data": {
            "text/html": [
              "<div>\n",
              "<style scoped>\n",
              "    .dataframe tbody tr th:only-of-type {\n",
              "        vertical-align: middle;\n",
              "    }\n",
              "\n",
              "    .dataframe tbody tr th {\n",
              "        vertical-align: top;\n",
              "    }\n",
              "\n",
              "    .dataframe thead th {\n",
              "        text-align: right;\n",
              "    }\n",
              "</style>\n",
              "<table border=\"1\" class=\"dataframe\">\n",
              "  <thead>\n",
              "    <tr style=\"text-align: right;\">\n",
              "      <th></th>\n",
              "      <th>Car full name</th>\n",
              "      <th>Make</th>\n",
              "      <th>Model</th>\n",
              "      <th>Minimal price (gross) [PLN]</th>\n",
              "      <th>Engine power [KM]</th>\n",
              "      <th>Maximum torque [Nm]</th>\n",
              "      <th>Type of brakes</th>\n",
              "      <th>Drive type</th>\n",
              "      <th>Battery capacity [kWh]</th>\n",
              "      <th>Range (WLTP) [km]</th>\n",
              "      <th>...</th>\n",
              "      <th>Permissable gross weight [kg]</th>\n",
              "      <th>Maximum load capacity [kg]</th>\n",
              "      <th>Number of seats</th>\n",
              "      <th>Number of doors</th>\n",
              "      <th>Tire size [in]</th>\n",
              "      <th>Maximum speed [kph]</th>\n",
              "      <th>Boot capacity (VDA) [l]</th>\n",
              "      <th>Acceleration 0-100 kph [s]</th>\n",
              "      <th>Maximum DC charging power [kW]</th>\n",
              "      <th>mean - Energy consumption [kWh/100 km]</th>\n",
              "    </tr>\n",
              "  </thead>\n",
              "  <tbody>\n",
              "    <tr>\n",
              "      <th>0</th>\n",
              "      <td>Audi e-tron 55 quattro</td>\n",
              "      <td>Audi</td>\n",
              "      <td>e-tron 55 quattro</td>\n",
              "      <td>345700</td>\n",
              "      <td>360</td>\n",
              "      <td>664</td>\n",
              "      <td>disc (front + rear)</td>\n",
              "      <td>4WD</td>\n",
              "      <td>95.0</td>\n",
              "      <td>438</td>\n",
              "      <td>...</td>\n",
              "      <td>3130.0</td>\n",
              "      <td>640.0</td>\n",
              "      <td>5</td>\n",
              "      <td>5</td>\n",
              "      <td>19</td>\n",
              "      <td>200</td>\n",
              "      <td>660.0</td>\n",
              "      <td>5.7</td>\n",
              "      <td>150</td>\n",
              "      <td>24.45</td>\n",
              "    </tr>\n",
              "    <tr>\n",
              "      <th>1</th>\n",
              "      <td>Audi e-tron 50 quattro</td>\n",
              "      <td>Audi</td>\n",
              "      <td>e-tron 50 quattro</td>\n",
              "      <td>308400</td>\n",
              "      <td>313</td>\n",
              "      <td>540</td>\n",
              "      <td>disc (front + rear)</td>\n",
              "      <td>4WD</td>\n",
              "      <td>71.0</td>\n",
              "      <td>340</td>\n",
              "      <td>...</td>\n",
              "      <td>3040.0</td>\n",
              "      <td>670.0</td>\n",
              "      <td>5</td>\n",
              "      <td>5</td>\n",
              "      <td>19</td>\n",
              "      <td>190</td>\n",
              "      <td>660.0</td>\n",
              "      <td>6.8</td>\n",
              "      <td>150</td>\n",
              "      <td>23.80</td>\n",
              "    </tr>\n",
              "    <tr>\n",
              "      <th>2</th>\n",
              "      <td>Audi e-tron S quattro</td>\n",
              "      <td>Audi</td>\n",
              "      <td>e-tron S quattro</td>\n",
              "      <td>414900</td>\n",
              "      <td>503</td>\n",
              "      <td>973</td>\n",
              "      <td>disc (front + rear)</td>\n",
              "      <td>4WD</td>\n",
              "      <td>95.0</td>\n",
              "      <td>364</td>\n",
              "      <td>...</td>\n",
              "      <td>3130.0</td>\n",
              "      <td>565.0</td>\n",
              "      <td>5</td>\n",
              "      <td>5</td>\n",
              "      <td>20</td>\n",
              "      <td>210</td>\n",
              "      <td>660.0</td>\n",
              "      <td>4.5</td>\n",
              "      <td>150</td>\n",
              "      <td>27.55</td>\n",
              "    </tr>\n",
              "    <tr>\n",
              "      <th>3</th>\n",
              "      <td>Audi e-tron Sportback 50 quattro</td>\n",
              "      <td>Audi</td>\n",
              "      <td>e-tron Sportback 50 quattro</td>\n",
              "      <td>319700</td>\n",
              "      <td>313</td>\n",
              "      <td>540</td>\n",
              "      <td>disc (front + rear)</td>\n",
              "      <td>4WD</td>\n",
              "      <td>71.0</td>\n",
              "      <td>346</td>\n",
              "      <td>...</td>\n",
              "      <td>3040.0</td>\n",
              "      <td>640.0</td>\n",
              "      <td>5</td>\n",
              "      <td>5</td>\n",
              "      <td>19</td>\n",
              "      <td>190</td>\n",
              "      <td>615.0</td>\n",
              "      <td>6.8</td>\n",
              "      <td>150</td>\n",
              "      <td>23.30</td>\n",
              "    </tr>\n",
              "    <tr>\n",
              "      <th>4</th>\n",
              "      <td>Audi e-tron Sportback 55 quattro</td>\n",
              "      <td>Audi</td>\n",
              "      <td>e-tron Sportback 55 quattro</td>\n",
              "      <td>357000</td>\n",
              "      <td>360</td>\n",
              "      <td>664</td>\n",
              "      <td>disc (front + rear)</td>\n",
              "      <td>4WD</td>\n",
              "      <td>95.0</td>\n",
              "      <td>447</td>\n",
              "      <td>...</td>\n",
              "      <td>3130.0</td>\n",
              "      <td>670.0</td>\n",
              "      <td>5</td>\n",
              "      <td>5</td>\n",
              "      <td>19</td>\n",
              "      <td>200</td>\n",
              "      <td>615.0</td>\n",
              "      <td>5.7</td>\n",
              "      <td>150</td>\n",
              "      <td>23.85</td>\n",
              "    </tr>\n",
              "  </tbody>\n",
              "</table>\n",
              "<p>5 rows × 25 columns</p>\n",
              "</div>"
            ],
            "text/plain": [
              "                      Car full name  Make                        Model  \\\n",
              "0            Audi e-tron 55 quattro  Audi            e-tron 55 quattro   \n",
              "1            Audi e-tron 50 quattro  Audi            e-tron 50 quattro   \n",
              "2             Audi e-tron S quattro  Audi             e-tron S quattro   \n",
              "3  Audi e-tron Sportback 50 quattro  Audi  e-tron Sportback 50 quattro   \n",
              "4  Audi e-tron Sportback 55 quattro  Audi  e-tron Sportback 55 quattro   \n",
              "\n",
              "   Minimal price (gross) [PLN]  Engine power [KM]  Maximum torque [Nm]  \\\n",
              "0                       345700                360                  664   \n",
              "1                       308400                313                  540   \n",
              "2                       414900                503                  973   \n",
              "3                       319700                313                  540   \n",
              "4                       357000                360                  664   \n",
              "\n",
              "        Type of brakes Drive type  Battery capacity [kWh]  Range (WLTP) [km]  \\\n",
              "0  disc (front + rear)        4WD                    95.0                438   \n",
              "1  disc (front + rear)        4WD                    71.0                340   \n",
              "2  disc (front + rear)        4WD                    95.0                364   \n",
              "3  disc (front + rear)        4WD                    71.0                346   \n",
              "4  disc (front + rear)        4WD                    95.0                447   \n",
              "\n",
              "   ...  Permissable gross weight [kg]  Maximum load capacity [kg]  \\\n",
              "0  ...                         3130.0                       640.0   \n",
              "1  ...                         3040.0                       670.0   \n",
              "2  ...                         3130.0                       565.0   \n",
              "3  ...                         3040.0                       640.0   \n",
              "4  ...                         3130.0                       670.0   \n",
              "\n",
              "   Number of seats  Number of doors  Tire size [in]  Maximum speed [kph]  \\\n",
              "0                5                5              19                  200   \n",
              "1                5                5              19                  190   \n",
              "2                5                5              20                  210   \n",
              "3                5                5              19                  190   \n",
              "4                5                5              19                  200   \n",
              "\n",
              "   Boot capacity (VDA) [l]  Acceleration 0-100 kph [s]  \\\n",
              "0                    660.0                         5.7   \n",
              "1                    660.0                         6.8   \n",
              "2                    660.0                         4.5   \n",
              "3                    615.0                         6.8   \n",
              "4                    615.0                         5.7   \n",
              "\n",
              "   Maximum DC charging power [kW]  mean - Energy consumption [kWh/100 km]  \n",
              "0                             150                                   24.45  \n",
              "1                             150                                   23.80  \n",
              "2                             150                                   27.55  \n",
              "3                             150                                   23.30  \n",
              "4                             150                                   23.85  \n",
              "\n",
              "[5 rows x 25 columns]"
            ]
          },
          "execution_count": 74,
          "metadata": {},
          "output_type": "execute_result"
        }
      ],
      "source": [
        "vehicle_data.head() #head function will shows the top 5 rows"
      ]
    },
    {
      "cell_type": "code",
      "execution_count": null,
      "id": "5c521dc0-e3b0-48ca-83be-60db9faccbb7",
      "metadata": {
        "id": "5c521dc0-e3b0-48ca-83be-60db9faccbb7",
        "outputId": "2b60564d-5b17-489b-f55e-487113287a54"
      },
      "outputs": [
        {
          "data": {
            "text/html": [
              "<div>\n",
              "<style scoped>\n",
              "    .dataframe tbody tr th:only-of-type {\n",
              "        vertical-align: middle;\n",
              "    }\n",
              "\n",
              "    .dataframe tbody tr th {\n",
              "        vertical-align: top;\n",
              "    }\n",
              "\n",
              "    .dataframe thead th {\n",
              "        text-align: right;\n",
              "    }\n",
              "</style>\n",
              "<table border=\"1\" class=\"dataframe\">\n",
              "  <thead>\n",
              "    <tr style=\"text-align: right;\">\n",
              "      <th></th>\n",
              "      <th>Car full name</th>\n",
              "      <th>Make</th>\n",
              "      <th>Model</th>\n",
              "      <th>Minimal price (gross) [PLN]</th>\n",
              "      <th>Engine power [KM]</th>\n",
              "      <th>Maximum torque [Nm]</th>\n",
              "      <th>Type of brakes</th>\n",
              "      <th>Drive type</th>\n",
              "      <th>Battery capacity [kWh]</th>\n",
              "      <th>Range (WLTP) [km]</th>\n",
              "      <th>...</th>\n",
              "      <th>Permissable gross weight [kg]</th>\n",
              "      <th>Maximum load capacity [kg]</th>\n",
              "      <th>Number of seats</th>\n",
              "      <th>Number of doors</th>\n",
              "      <th>Tire size [in]</th>\n",
              "      <th>Maximum speed [kph]</th>\n",
              "      <th>Boot capacity (VDA) [l]</th>\n",
              "      <th>Acceleration 0-100 kph [s]</th>\n",
              "      <th>Maximum DC charging power [kW]</th>\n",
              "      <th>mean - Energy consumption [kWh/100 km]</th>\n",
              "    </tr>\n",
              "  </thead>\n",
              "  <tbody>\n",
              "    <tr>\n",
              "      <th>48</th>\n",
              "      <td>Volkswagen ID.3 Pro S</td>\n",
              "      <td>Volkswagen</td>\n",
              "      <td>ID.3 Pro S</td>\n",
              "      <td>179990</td>\n",
              "      <td>204</td>\n",
              "      <td>310</td>\n",
              "      <td>disc (front) + drum (rear)</td>\n",
              "      <td>2WD (rear)</td>\n",
              "      <td>77.0</td>\n",
              "      <td>549</td>\n",
              "      <td>...</td>\n",
              "      <td>2280.0</td>\n",
              "      <td>412.0</td>\n",
              "      <td>5</td>\n",
              "      <td>5</td>\n",
              "      <td>19</td>\n",
              "      <td>160</td>\n",
              "      <td>385.0</td>\n",
              "      <td>7.9</td>\n",
              "      <td>125</td>\n",
              "      <td>15.9</td>\n",
              "    </tr>\n",
              "    <tr>\n",
              "      <th>49</th>\n",
              "      <td>Volkswagen ID.4 1st</td>\n",
              "      <td>Volkswagen</td>\n",
              "      <td>ID.4 1st</td>\n",
              "      <td>202390</td>\n",
              "      <td>204</td>\n",
              "      <td>310</td>\n",
              "      <td>disc (front) + drum (rear)</td>\n",
              "      <td>2WD (rear)</td>\n",
              "      <td>77.0</td>\n",
              "      <td>500</td>\n",
              "      <td>...</td>\n",
              "      <td>2660.0</td>\n",
              "      <td>661.0</td>\n",
              "      <td>5</td>\n",
              "      <td>5</td>\n",
              "      <td>20</td>\n",
              "      <td>160</td>\n",
              "      <td>543.0</td>\n",
              "      <td>8.5</td>\n",
              "      <td>125</td>\n",
              "      <td>18.0</td>\n",
              "    </tr>\n",
              "    <tr>\n",
              "      <th>50</th>\n",
              "      <td>Citroën ë-Spacetourer (M)</td>\n",
              "      <td>Citroën</td>\n",
              "      <td>ë-Spacetourer (M)</td>\n",
              "      <td>215400</td>\n",
              "      <td>136</td>\n",
              "      <td>260</td>\n",
              "      <td>disc (front + rear)</td>\n",
              "      <td>2WD (front)</td>\n",
              "      <td>50.0</td>\n",
              "      <td>230</td>\n",
              "      <td>...</td>\n",
              "      <td>2810.0</td>\n",
              "      <td>1056.0</td>\n",
              "      <td>8</td>\n",
              "      <td>5</td>\n",
              "      <td>16</td>\n",
              "      <td>130</td>\n",
              "      <td>603.0</td>\n",
              "      <td>13.1</td>\n",
              "      <td>100</td>\n",
              "      <td>25.2</td>\n",
              "    </tr>\n",
              "    <tr>\n",
              "      <th>51</th>\n",
              "      <td>Mercedes-Benz EQV (long)</td>\n",
              "      <td>Mercedes-Benz</td>\n",
              "      <td>EQV (long)</td>\n",
              "      <td>339480</td>\n",
              "      <td>204</td>\n",
              "      <td>362</td>\n",
              "      <td>NaN</td>\n",
              "      <td>2WD (front)</td>\n",
              "      <td>90.0</td>\n",
              "      <td>356</td>\n",
              "      <td>...</td>\n",
              "      <td>3500.0</td>\n",
              "      <td>865.0</td>\n",
              "      <td>6</td>\n",
              "      <td>5</td>\n",
              "      <td>17</td>\n",
              "      <td>160</td>\n",
              "      <td>NaN</td>\n",
              "      <td>NaN</td>\n",
              "      <td>110</td>\n",
              "      <td>28.2</td>\n",
              "    </tr>\n",
              "    <tr>\n",
              "      <th>52</th>\n",
              "      <td>Nissan e-NV200 evalia</td>\n",
              "      <td>Nissan</td>\n",
              "      <td>e-NV200 evalia</td>\n",
              "      <td>164328</td>\n",
              "      <td>109</td>\n",
              "      <td>254</td>\n",
              "      <td>disc (front + rear)</td>\n",
              "      <td>2WD (front)</td>\n",
              "      <td>40.0</td>\n",
              "      <td>200</td>\n",
              "      <td>...</td>\n",
              "      <td>2250.0</td>\n",
              "      <td>658.0</td>\n",
              "      <td>5</td>\n",
              "      <td>5</td>\n",
              "      <td>15</td>\n",
              "      <td>123</td>\n",
              "      <td>870.0</td>\n",
              "      <td>NaN</td>\n",
              "      <td>50</td>\n",
              "      <td>25.9</td>\n",
              "    </tr>\n",
              "  </tbody>\n",
              "</table>\n",
              "<p>5 rows × 25 columns</p>\n",
              "</div>"
            ],
            "text/plain": [
              "                Car full name           Make              Model  \\\n",
              "48      Volkswagen ID.3 Pro S     Volkswagen         ID.3 Pro S   \n",
              "49        Volkswagen ID.4 1st     Volkswagen           ID.4 1st   \n",
              "50  Citroën ë-Spacetourer (M)        Citroën  ë-Spacetourer (M)   \n",
              "51   Mercedes-Benz EQV (long)  Mercedes-Benz         EQV (long)   \n",
              "52      Nissan e-NV200 evalia         Nissan     e-NV200 evalia   \n",
              "\n",
              "    Minimal price (gross) [PLN]  Engine power [KM]  Maximum torque [Nm]  \\\n",
              "48                       179990                204                  310   \n",
              "49                       202390                204                  310   \n",
              "50                       215400                136                  260   \n",
              "51                       339480                204                  362   \n",
              "52                       164328                109                  254   \n",
              "\n",
              "                Type of brakes   Drive type  Battery capacity [kWh]  \\\n",
              "48  disc (front) + drum (rear)   2WD (rear)                    77.0   \n",
              "49  disc (front) + drum (rear)   2WD (rear)                    77.0   \n",
              "50         disc (front + rear)  2WD (front)                    50.0   \n",
              "51                         NaN  2WD (front)                    90.0   \n",
              "52         disc (front + rear)  2WD (front)                    40.0   \n",
              "\n",
              "    Range (WLTP) [km]  ...  Permissable gross weight [kg]  \\\n",
              "48                549  ...                         2280.0   \n",
              "49                500  ...                         2660.0   \n",
              "50                230  ...                         2810.0   \n",
              "51                356  ...                         3500.0   \n",
              "52                200  ...                         2250.0   \n",
              "\n",
              "    Maximum load capacity [kg]  Number of seats  Number of doors  \\\n",
              "48                       412.0                5                5   \n",
              "49                       661.0                5                5   \n",
              "50                      1056.0                8                5   \n",
              "51                       865.0                6                5   \n",
              "52                       658.0                5                5   \n",
              "\n",
              "    Tire size [in]  Maximum speed [kph]  Boot capacity (VDA) [l]  \\\n",
              "48              19                  160                    385.0   \n",
              "49              20                  160                    543.0   \n",
              "50              16                  130                    603.0   \n",
              "51              17                  160                      NaN   \n",
              "52              15                  123                    870.0   \n",
              "\n",
              "    Acceleration 0-100 kph [s]  Maximum DC charging power [kW]  \\\n",
              "48                         7.9                             125   \n",
              "49                         8.5                             125   \n",
              "50                        13.1                             100   \n",
              "51                         NaN                             110   \n",
              "52                         NaN                              50   \n",
              "\n",
              "    mean - Energy consumption [kWh/100 km]  \n",
              "48                                    15.9  \n",
              "49                                    18.0  \n",
              "50                                    25.2  \n",
              "51                                    28.2  \n",
              "52                                    25.9  \n",
              "\n",
              "[5 rows x 25 columns]"
            ]
          },
          "execution_count": 47,
          "metadata": {},
          "output_type": "execute_result"
        }
      ],
      "source": [
        "vehicle_data.tail() # tail function will shows the bottom 5 rows in the data frame"
      ]
    },
    {
      "cell_type": "code",
      "execution_count": null,
      "id": "54526ff7-ae00-472d-84a6-2ff67c419cde",
      "metadata": {
        "id": "54526ff7-ae00-472d-84a6-2ff67c419cde",
        "outputId": "364e8424-46ff-43b0-e652-96ef00581365"
      },
      "outputs": [
        {
          "data": {
            "text/plain": [
              "(53, 25)"
            ]
          },
          "execution_count": 48,
          "metadata": {},
          "output_type": "execute_result"
        }
      ],
      "source": [
        "vehicle_data.shape #shape function shows the how many rows and columns are present in the data set"
      ]
    },
    {
      "cell_type": "code",
      "execution_count": null,
      "id": "39d3ceb0-19fb-4462-9852-fd6b4b0071a8",
      "metadata": {
        "id": "39d3ceb0-19fb-4462-9852-fd6b4b0071a8",
        "outputId": "a0153c84-b3f3-48de-86ca-6f0ddc4b88be"
      },
      "outputs": [
        {
          "data": {
            "text/plain": [
              "Index(['Car full name', 'Make', 'Model', 'Minimal price (gross) [PLN]',\n",
              "       'Engine power [KM]', 'Maximum torque [Nm]', 'Type of brakes',\n",
              "       'Drive type', 'Battery capacity [kWh]', 'Range (WLTP) [km]',\n",
              "       'Wheelbase [cm]', 'Length [cm]', 'Width [cm]', 'Height [cm]',\n",
              "       'Minimal empty weight [kg]', 'Permissable gross weight [kg]',\n",
              "       'Maximum load capacity [kg]', 'Number of seats', 'Number of doors',\n",
              "       'Tire size [in]', 'Maximum speed [kph]', 'Boot capacity (VDA) [l]',\n",
              "       'Acceleration 0-100 kph [s]', 'Maximum DC charging power [kW]',\n",
              "       'mean - Energy consumption [kWh/100 km]'],\n",
              "      dtype='object')"
            ]
          },
          "execution_count": 49,
          "metadata": {},
          "output_type": "execute_result"
        }
      ],
      "source": [
        "vehicle_data.columns #shows all columns names"
      ]
    },
    {
      "cell_type": "code",
      "execution_count": null,
      "id": "bafc5ed1-2c63-4934-b1d2-3d7f1512e7a9",
      "metadata": {
        "id": "bafc5ed1-2c63-4934-b1d2-3d7f1512e7a9",
        "outputId": "845e34bd-d87c-4ca8-b842-ad6b4b255e8b"
      },
      "outputs": [
        {
          "data": {
            "text/html": [
              "<div>\n",
              "<style scoped>\n",
              "    .dataframe tbody tr th:only-of-type {\n",
              "        vertical-align: middle;\n",
              "    }\n",
              "\n",
              "    .dataframe tbody tr th {\n",
              "        vertical-align: top;\n",
              "    }\n",
              "\n",
              "    .dataframe thead th {\n",
              "        text-align: right;\n",
              "    }\n",
              "</style>\n",
              "<table border=\"1\" class=\"dataframe\">\n",
              "  <thead>\n",
              "    <tr style=\"text-align: right;\">\n",
              "      <th></th>\n",
              "      <th>Minimal price (gross) [PLN]</th>\n",
              "      <th>Engine power [KM]</th>\n",
              "      <th>Maximum torque [Nm]</th>\n",
              "      <th>Battery capacity [kWh]</th>\n",
              "      <th>Range (WLTP) [km]</th>\n",
              "      <th>Wheelbase [cm]</th>\n",
              "      <th>Length [cm]</th>\n",
              "      <th>Width [cm]</th>\n",
              "      <th>Height [cm]</th>\n",
              "      <th>Minimal empty weight [kg]</th>\n",
              "      <th>Permissable gross weight [kg]</th>\n",
              "      <th>Maximum load capacity [kg]</th>\n",
              "      <th>Number of seats</th>\n",
              "      <th>Number of doors</th>\n",
              "      <th>Tire size [in]</th>\n",
              "      <th>Maximum speed [kph]</th>\n",
              "      <th>Boot capacity (VDA) [l]</th>\n",
              "      <th>Acceleration 0-100 kph [s]</th>\n",
              "      <th>Maximum DC charging power [kW]</th>\n",
              "      <th>mean - Energy consumption [kWh/100 km]</th>\n",
              "    </tr>\n",
              "  </thead>\n",
              "  <tbody>\n",
              "    <tr>\n",
              "      <th>count</th>\n",
              "      <td>53.000000</td>\n",
              "      <td>53.000000</td>\n",
              "      <td>53.000000</td>\n",
              "      <td>53.000000</td>\n",
              "      <td>53.000000</td>\n",
              "      <td>53.000000</td>\n",
              "      <td>53.000000</td>\n",
              "      <td>53.000000</td>\n",
              "      <td>53.000000</td>\n",
              "      <td>53.000000</td>\n",
              "      <td>45.000000</td>\n",
              "      <td>45.000000</td>\n",
              "      <td>53.000000</td>\n",
              "      <td>53.000000</td>\n",
              "      <td>53.000000</td>\n",
              "      <td>53.000000</td>\n",
              "      <td>52.000000</td>\n",
              "      <td>50.00000</td>\n",
              "      <td>53.000000</td>\n",
              "      <td>44.000000</td>\n",
              "    </tr>\n",
              "    <tr>\n",
              "      <th>mean</th>\n",
              "      <td>246158.509434</td>\n",
              "      <td>269.773585</td>\n",
              "      <td>460.037736</td>\n",
              "      <td>62.366038</td>\n",
              "      <td>376.905660</td>\n",
              "      <td>273.581132</td>\n",
              "      <td>442.509434</td>\n",
              "      <td>186.241509</td>\n",
              "      <td>155.422642</td>\n",
              "      <td>1868.452830</td>\n",
              "      <td>2288.844444</td>\n",
              "      <td>520.466667</td>\n",
              "      <td>4.905660</td>\n",
              "      <td>4.849057</td>\n",
              "      <td>17.679245</td>\n",
              "      <td>178.169811</td>\n",
              "      <td>445.096154</td>\n",
              "      <td>7.36000</td>\n",
              "      <td>113.509434</td>\n",
              "      <td>18.994318</td>\n",
              "    </tr>\n",
              "    <tr>\n",
              "      <th>std</th>\n",
              "      <td>149187.485190</td>\n",
              "      <td>181.298589</td>\n",
              "      <td>261.647000</td>\n",
              "      <td>24.170913</td>\n",
              "      <td>118.817938</td>\n",
              "      <td>22.740518</td>\n",
              "      <td>48.863280</td>\n",
              "      <td>14.280641</td>\n",
              "      <td>11.275358</td>\n",
              "      <td>470.880867</td>\n",
              "      <td>557.796026</td>\n",
              "      <td>140.682848</td>\n",
              "      <td>0.838133</td>\n",
              "      <td>0.455573</td>\n",
              "      <td>1.868500</td>\n",
              "      <td>43.056196</td>\n",
              "      <td>180.178480</td>\n",
              "      <td>2.78663</td>\n",
              "      <td>57.166970</td>\n",
              "      <td>4.418253</td>\n",
              "    </tr>\n",
              "    <tr>\n",
              "      <th>min</th>\n",
              "      <td>82050.000000</td>\n",
              "      <td>82.000000</td>\n",
              "      <td>160.000000</td>\n",
              "      <td>17.600000</td>\n",
              "      <td>148.000000</td>\n",
              "      <td>187.300000</td>\n",
              "      <td>269.500000</td>\n",
              "      <td>164.500000</td>\n",
              "      <td>137.800000</td>\n",
              "      <td>1035.000000</td>\n",
              "      <td>1310.000000</td>\n",
              "      <td>290.000000</td>\n",
              "      <td>2.000000</td>\n",
              "      <td>3.000000</td>\n",
              "      <td>14.000000</td>\n",
              "      <td>123.000000</td>\n",
              "      <td>171.000000</td>\n",
              "      <td>2.50000</td>\n",
              "      <td>22.000000</td>\n",
              "      <td>13.100000</td>\n",
              "    </tr>\n",
              "    <tr>\n",
              "      <th>25%</th>\n",
              "      <td>142900.000000</td>\n",
              "      <td>136.000000</td>\n",
              "      <td>260.000000</td>\n",
              "      <td>40.000000</td>\n",
              "      <td>289.000000</td>\n",
              "      <td>258.800000</td>\n",
              "      <td>411.800000</td>\n",
              "      <td>178.800000</td>\n",
              "      <td>148.100000</td>\n",
              "      <td>1530.000000</td>\n",
              "      <td>1916.000000</td>\n",
              "      <td>440.000000</td>\n",
              "      <td>5.000000</td>\n",
              "      <td>5.000000</td>\n",
              "      <td>16.000000</td>\n",
              "      <td>150.000000</td>\n",
              "      <td>315.000000</td>\n",
              "      <td>4.87500</td>\n",
              "      <td>100.000000</td>\n",
              "      <td>15.600000</td>\n",
              "    </tr>\n",
              "    <tr>\n",
              "      <th>50%</th>\n",
              "      <td>178400.000000</td>\n",
              "      <td>204.000000</td>\n",
              "      <td>362.000000</td>\n",
              "      <td>58.000000</td>\n",
              "      <td>364.000000</td>\n",
              "      <td>270.000000</td>\n",
              "      <td>447.000000</td>\n",
              "      <td>180.900000</td>\n",
              "      <td>155.600000</td>\n",
              "      <td>1685.000000</td>\n",
              "      <td>2119.000000</td>\n",
              "      <td>486.000000</td>\n",
              "      <td>5.000000</td>\n",
              "      <td>5.000000</td>\n",
              "      <td>17.000000</td>\n",
              "      <td>160.000000</td>\n",
              "      <td>425.000000</td>\n",
              "      <td>7.70000</td>\n",
              "      <td>100.000000</td>\n",
              "      <td>17.050000</td>\n",
              "    </tr>\n",
              "    <tr>\n",
              "      <th>75%</th>\n",
              "      <td>339480.000000</td>\n",
              "      <td>372.000000</td>\n",
              "      <td>640.000000</td>\n",
              "      <td>80.000000</td>\n",
              "      <td>450.000000</td>\n",
              "      <td>290.000000</td>\n",
              "      <td>490.100000</td>\n",
              "      <td>193.500000</td>\n",
              "      <td>161.500000</td>\n",
              "      <td>2370.000000</td>\n",
              "      <td>2870.000000</td>\n",
              "      <td>575.000000</td>\n",
              "      <td>5.000000</td>\n",
              "      <td>5.000000</td>\n",
              "      <td>19.000000</td>\n",
              "      <td>200.000000</td>\n",
              "      <td>558.000000</td>\n",
              "      <td>9.37500</td>\n",
              "      <td>150.000000</td>\n",
              "      <td>23.500000</td>\n",
              "    </tr>\n",
              "    <tr>\n",
              "      <th>max</th>\n",
              "      <td>794000.000000</td>\n",
              "      <td>772.000000</td>\n",
              "      <td>1140.000000</td>\n",
              "      <td>100.000000</td>\n",
              "      <td>652.000000</td>\n",
              "      <td>327.500000</td>\n",
              "      <td>514.000000</td>\n",
              "      <td>255.800000</td>\n",
              "      <td>191.000000</td>\n",
              "      <td>2710.000000</td>\n",
              "      <td>3500.000000</td>\n",
              "      <td>1056.000000</td>\n",
              "      <td>8.000000</td>\n",
              "      <td>5.000000</td>\n",
              "      <td>21.000000</td>\n",
              "      <td>261.000000</td>\n",
              "      <td>870.000000</td>\n",
              "      <td>13.10000</td>\n",
              "      <td>270.000000</td>\n",
              "      <td>28.200000</td>\n",
              "    </tr>\n",
              "  </tbody>\n",
              "</table>\n",
              "</div>"
            ],
            "text/plain": [
              "       Minimal price (gross) [PLN]  Engine power [KM]  Maximum torque [Nm]  \\\n",
              "count                    53.000000          53.000000            53.000000   \n",
              "mean                 246158.509434         269.773585           460.037736   \n",
              "std                  149187.485190         181.298589           261.647000   \n",
              "min                   82050.000000          82.000000           160.000000   \n",
              "25%                  142900.000000         136.000000           260.000000   \n",
              "50%                  178400.000000         204.000000           362.000000   \n",
              "75%                  339480.000000         372.000000           640.000000   \n",
              "max                  794000.000000         772.000000          1140.000000   \n",
              "\n",
              "       Battery capacity [kWh]  Range (WLTP) [km]  Wheelbase [cm]  Length [cm]  \\\n",
              "count               53.000000          53.000000       53.000000    53.000000   \n",
              "mean                62.366038         376.905660      273.581132   442.509434   \n",
              "std                 24.170913         118.817938       22.740518    48.863280   \n",
              "min                 17.600000         148.000000      187.300000   269.500000   \n",
              "25%                 40.000000         289.000000      258.800000   411.800000   \n",
              "50%                 58.000000         364.000000      270.000000   447.000000   \n",
              "75%                 80.000000         450.000000      290.000000   490.100000   \n",
              "max                100.000000         652.000000      327.500000   514.000000   \n",
              "\n",
              "       Width [cm]  Height [cm]  Minimal empty weight [kg]  \\\n",
              "count   53.000000    53.000000                  53.000000   \n",
              "mean   186.241509   155.422642                1868.452830   \n",
              "std     14.280641    11.275358                 470.880867   \n",
              "min    164.500000   137.800000                1035.000000   \n",
              "25%    178.800000   148.100000                1530.000000   \n",
              "50%    180.900000   155.600000                1685.000000   \n",
              "75%    193.500000   161.500000                2370.000000   \n",
              "max    255.800000   191.000000                2710.000000   \n",
              "\n",
              "       Permissable gross weight [kg]  Maximum load capacity [kg]  \\\n",
              "count                      45.000000                   45.000000   \n",
              "mean                     2288.844444                  520.466667   \n",
              "std                       557.796026                  140.682848   \n",
              "min                      1310.000000                  290.000000   \n",
              "25%                      1916.000000                  440.000000   \n",
              "50%                      2119.000000                  486.000000   \n",
              "75%                      2870.000000                  575.000000   \n",
              "max                      3500.000000                 1056.000000   \n",
              "\n",
              "       Number of seats  Number of doors  Tire size [in]  Maximum speed [kph]  \\\n",
              "count        53.000000        53.000000       53.000000            53.000000   \n",
              "mean          4.905660         4.849057       17.679245           178.169811   \n",
              "std           0.838133         0.455573        1.868500            43.056196   \n",
              "min           2.000000         3.000000       14.000000           123.000000   \n",
              "25%           5.000000         5.000000       16.000000           150.000000   \n",
              "50%           5.000000         5.000000       17.000000           160.000000   \n",
              "75%           5.000000         5.000000       19.000000           200.000000   \n",
              "max           8.000000         5.000000       21.000000           261.000000   \n",
              "\n",
              "       Boot capacity (VDA) [l]  Acceleration 0-100 kph [s]  \\\n",
              "count                52.000000                    50.00000   \n",
              "mean                445.096154                     7.36000   \n",
              "std                 180.178480                     2.78663   \n",
              "min                 171.000000                     2.50000   \n",
              "25%                 315.000000                     4.87500   \n",
              "50%                 425.000000                     7.70000   \n",
              "75%                 558.000000                     9.37500   \n",
              "max                 870.000000                    13.10000   \n",
              "\n",
              "       Maximum DC charging power [kW]  mean - Energy consumption [kWh/100 km]  \n",
              "count                       53.000000                               44.000000  \n",
              "mean                       113.509434                               18.994318  \n",
              "std                         57.166970                                4.418253  \n",
              "min                         22.000000                               13.100000  \n",
              "25%                        100.000000                               15.600000  \n",
              "50%                        100.000000                               17.050000  \n",
              "75%                        150.000000                               23.500000  \n",
              "max                        270.000000                               28.200000  "
            ]
          },
          "execution_count": 50,
          "metadata": {},
          "output_type": "execute_result"
        }
      ],
      "source": [
        "vehicle_data.describe() # Its shows the all the numerical description like mean ,std,max etc"
      ]
    },
    {
      "cell_type": "code",
      "execution_count": null,
      "id": "d475563a-6d1e-4f0d-a69e-61710a8340b1",
      "metadata": {
        "id": "d475563a-6d1e-4f0d-a69e-61710a8340b1",
        "outputId": "06852d4e-80e2-4475-a1fd-b1a9b443afd6"
      },
      "outputs": [
        {
          "name": "stdout",
          "output_type": "stream",
          "text": [
            "<class 'pandas.core.frame.DataFrame'>\n",
            "RangeIndex: 53 entries, 0 to 52\n",
            "Data columns (total 25 columns):\n",
            " #   Column                                  Non-Null Count  Dtype  \n",
            "---  ------                                  --------------  -----  \n",
            " 0   Car full name                           53 non-null     object \n",
            " 1   Make                                    53 non-null     object \n",
            " 2   Model                                   53 non-null     object \n",
            " 3   Minimal price (gross) [PLN]             53 non-null     int64  \n",
            " 4   Engine power [KM]                       53 non-null     int64  \n",
            " 5   Maximum torque [Nm]                     53 non-null     int64  \n",
            " 6   Type of brakes                          52 non-null     object \n",
            " 7   Drive type                              53 non-null     object \n",
            " 8   Battery capacity [kWh]                  53 non-null     float64\n",
            " 9   Range (WLTP) [km]                       53 non-null     int64  \n",
            " 10  Wheelbase [cm]                          53 non-null     float64\n",
            " 11  Length [cm]                             53 non-null     float64\n",
            " 12  Width [cm]                              53 non-null     float64\n",
            " 13  Height [cm]                             53 non-null     float64\n",
            " 14  Minimal empty weight [kg]               53 non-null     int64  \n",
            " 15  Permissable gross weight [kg]           45 non-null     float64\n",
            " 16  Maximum load capacity [kg]              45 non-null     float64\n",
            " 17  Number of seats                         53 non-null     int64  \n",
            " 18  Number of doors                         53 non-null     int64  \n",
            " 19  Tire size [in]                          53 non-null     int64  \n",
            " 20  Maximum speed [kph]                     53 non-null     int64  \n",
            " 21  Boot capacity (VDA) [l]                 52 non-null     float64\n",
            " 22  Acceleration 0-100 kph [s]              50 non-null     float64\n",
            " 23  Maximum DC charging power [kW]          53 non-null     int64  \n",
            " 24  mean - Energy consumption [kWh/100 km]  44 non-null     float64\n",
            "dtypes: float64(10), int64(10), object(5)\n",
            "memory usage: 10.5+ KB\n"
          ]
        }
      ],
      "source": [
        "vehicle_data.info() # Its shows the information related to the columns"
      ]
    },
    {
      "cell_type": "code",
      "execution_count": null,
      "id": "42ac4e1e-944a-4966-9631-ebeb9b095489",
      "metadata": {
        "id": "42ac4e1e-944a-4966-9631-ebeb9b095489",
        "outputId": "6eb89679-f2d1-4872-e758-e001648e3157"
      },
      "outputs": [
        {
          "data": {
            "text/plain": [
              "Car full name                             0\n",
              "Make                                      0\n",
              "Model                                     0\n",
              "Minimal price (gross) [PLN]               0\n",
              "Engine power [KM]                         0\n",
              "Maximum torque [Nm]                       0\n",
              "Type of brakes                            1\n",
              "Drive type                                0\n",
              "Battery capacity [kWh]                    0\n",
              "Range (WLTP) [km]                         0\n",
              "Wheelbase [cm]                            0\n",
              "Length [cm]                               0\n",
              "Width [cm]                                0\n",
              "Height [cm]                               0\n",
              "Minimal empty weight [kg]                 0\n",
              "Permissable gross weight [kg]             8\n",
              "Maximum load capacity [kg]                8\n",
              "Number of seats                           0\n",
              "Number of doors                           0\n",
              "Tire size [in]                            0\n",
              "Maximum speed [kph]                       0\n",
              "Boot capacity (VDA) [l]                   1\n",
              "Acceleration 0-100 kph [s]                3\n",
              "Maximum DC charging power [kW]            0\n",
              "mean - Energy consumption [kWh/100 km]    9\n",
              "dtype: int64"
            ]
          },
          "execution_count": 52,
          "metadata": {},
          "output_type": "execute_result"
        }
      ],
      "source": [
        "vehicle_data.isnull().sum() # isnull function identifies the null values"
      ]
    },
    {
      "cell_type": "code",
      "execution_count": null,
      "id": "779e8a1b-51d5-4480-9cc5-ebe87abd73c4",
      "metadata": {
        "id": "779e8a1b-51d5-4480-9cc5-ebe87abd73c4",
        "outputId": "5e30d1a0-f307-4fa4-d518-8d755d2a14b7"
      },
      "outputs": [
        {
          "data": {
            "text/plain": [
              "0"
            ]
          },
          "execution_count": 53,
          "metadata": {},
          "output_type": "execute_result"
        }
      ],
      "source": [
        "vehicle_data.duplicated().sum() #duplicated function will shows the if duplicate rows are present"
      ]
    },
    {
      "cell_type": "markdown",
      "id": "cf49280e-c0f7-4f95-860d-782c7f18cdbd",
      "metadata": {
        "id": "cf49280e-c0f7-4f95-860d-782c7f18cdbd"
      },
      "source": [
        "## <span style=\"color:yellow\">Task 1: A customer has a budget of 350,000 PLN and wants an EV with a minimum range of 400 km.</span>"
      ]
    },
    {
      "cell_type": "markdown",
      "id": "1d6523fd-9e3c-4ced-9204-385f6a9bd69f",
      "metadata": {
        "id": "1d6523fd-9e3c-4ced-9204-385f6a9bd69f"
      },
      "source": [
        "###  <span style=\"color:blue\"> a) Your task is to filter out EVs that meet these criteria.</span>"
      ]
    },
    {
      "cell_type": "code",
      "execution_count": null,
      "id": "c0fe223f-a63f-4e7e-a952-99cbb3f0cb6e",
      "metadata": {
        "scrolled": true,
        "id": "c0fe223f-a63f-4e7e-a952-99cbb3f0cb6e",
        "outputId": "8a84e99f-edfd-46a8-9d23-ac0e72c21cf1"
      },
      "outputs": [
        {
          "data": {
            "text/html": [
              "<div>\n",
              "<style scoped>\n",
              "    .dataframe tbody tr th:only-of-type {\n",
              "        vertical-align: middle;\n",
              "    }\n",
              "\n",
              "    .dataframe tbody tr th {\n",
              "        vertical-align: top;\n",
              "    }\n",
              "\n",
              "    .dataframe thead th {\n",
              "        text-align: right;\n",
              "    }\n",
              "</style>\n",
              "<table border=\"1\" class=\"dataframe\">\n",
              "  <thead>\n",
              "    <tr style=\"text-align: right;\">\n",
              "      <th></th>\n",
              "      <th>Car full name</th>\n",
              "      <th>Make</th>\n",
              "      <th>Model</th>\n",
              "      <th>Minimal price (gross) [PLN]</th>\n",
              "      <th>Engine power [KM]</th>\n",
              "      <th>Maximum torque [Nm]</th>\n",
              "      <th>Type of brakes</th>\n",
              "      <th>Drive type</th>\n",
              "      <th>Battery capacity [kWh]</th>\n",
              "      <th>Range (WLTP) [km]</th>\n",
              "      <th>...</th>\n",
              "      <th>Permissable gross weight [kg]</th>\n",
              "      <th>Maximum load capacity [kg]</th>\n",
              "      <th>Number of seats</th>\n",
              "      <th>Number of doors</th>\n",
              "      <th>Tire size [in]</th>\n",
              "      <th>Maximum speed [kph]</th>\n",
              "      <th>Boot capacity (VDA) [l]</th>\n",
              "      <th>Acceleration 0-100 kph [s]</th>\n",
              "      <th>Maximum DC charging power [kW]</th>\n",
              "      <th>mean - Energy consumption [kWh/100 km]</th>\n",
              "    </tr>\n",
              "  </thead>\n",
              "  <tbody>\n",
              "    <tr>\n",
              "      <th>0</th>\n",
              "      <td>Audi e-tron 55 quattro</td>\n",
              "      <td>Audi</td>\n",
              "      <td>e-tron 55 quattro</td>\n",
              "      <td>345700</td>\n",
              "      <td>360</td>\n",
              "      <td>664</td>\n",
              "      <td>disc (front + rear)</td>\n",
              "      <td>4WD</td>\n",
              "      <td>95.0</td>\n",
              "      <td>438</td>\n",
              "      <td>...</td>\n",
              "      <td>3130.0</td>\n",
              "      <td>640.0</td>\n",
              "      <td>5</td>\n",
              "      <td>5</td>\n",
              "      <td>19</td>\n",
              "      <td>200</td>\n",
              "      <td>660.0</td>\n",
              "      <td>5.7</td>\n",
              "      <td>150</td>\n",
              "      <td>24.45</td>\n",
              "    </tr>\n",
              "    <tr>\n",
              "      <th>8</th>\n",
              "      <td>BMW iX3</td>\n",
              "      <td>BMW</td>\n",
              "      <td>iX3</td>\n",
              "      <td>282900</td>\n",
              "      <td>286</td>\n",
              "      <td>400</td>\n",
              "      <td>disc (front + rear)</td>\n",
              "      <td>2WD (rear)</td>\n",
              "      <td>80.0</td>\n",
              "      <td>460</td>\n",
              "      <td>...</td>\n",
              "      <td>2725.0</td>\n",
              "      <td>540.0</td>\n",
              "      <td>5</td>\n",
              "      <td>5</td>\n",
              "      <td>19</td>\n",
              "      <td>180</td>\n",
              "      <td>510.0</td>\n",
              "      <td>6.8</td>\n",
              "      <td>150</td>\n",
              "      <td>18.80</td>\n",
              "    </tr>\n",
              "    <tr>\n",
              "      <th>15</th>\n",
              "      <td>Hyundai Kona electric 64kWh</td>\n",
              "      <td>Hyundai</td>\n",
              "      <td>Kona electric 64kWh</td>\n",
              "      <td>178400</td>\n",
              "      <td>204</td>\n",
              "      <td>395</td>\n",
              "      <td>disc (front + rear)</td>\n",
              "      <td>2WD (front)</td>\n",
              "      <td>64.0</td>\n",
              "      <td>449</td>\n",
              "      <td>...</td>\n",
              "      <td>2170.0</td>\n",
              "      <td>485.0</td>\n",
              "      <td>5</td>\n",
              "      <td>5</td>\n",
              "      <td>17</td>\n",
              "      <td>167</td>\n",
              "      <td>332.0</td>\n",
              "      <td>7.6</td>\n",
              "      <td>100</td>\n",
              "      <td>15.40</td>\n",
              "    </tr>\n",
              "    <tr>\n",
              "      <th>18</th>\n",
              "      <td>Kia e-Niro 64kWh</td>\n",
              "      <td>Kia</td>\n",
              "      <td>e-Niro 64kWh</td>\n",
              "      <td>167990</td>\n",
              "      <td>204</td>\n",
              "      <td>395</td>\n",
              "      <td>disc (front + rear)</td>\n",
              "      <td>2WD (front)</td>\n",
              "      <td>64.0</td>\n",
              "      <td>455</td>\n",
              "      <td>...</td>\n",
              "      <td>2230.0</td>\n",
              "      <td>493.0</td>\n",
              "      <td>5</td>\n",
              "      <td>5</td>\n",
              "      <td>17</td>\n",
              "      <td>167</td>\n",
              "      <td>451.0</td>\n",
              "      <td>7.8</td>\n",
              "      <td>100</td>\n",
              "      <td>15.90</td>\n",
              "    </tr>\n",
              "    <tr>\n",
              "      <th>20</th>\n",
              "      <td>Kia e-Soul 64kWh</td>\n",
              "      <td>Kia</td>\n",
              "      <td>e-Soul 64kWh</td>\n",
              "      <td>160990</td>\n",
              "      <td>204</td>\n",
              "      <td>395</td>\n",
              "      <td>disc (front + rear)</td>\n",
              "      <td>2WD (front)</td>\n",
              "      <td>64.0</td>\n",
              "      <td>452</td>\n",
              "      <td>...</td>\n",
              "      <td>1682.0</td>\n",
              "      <td>498.0</td>\n",
              "      <td>5</td>\n",
              "      <td>5</td>\n",
              "      <td>17</td>\n",
              "      <td>167</td>\n",
              "      <td>315.0</td>\n",
              "      <td>7.9</td>\n",
              "      <td>100</td>\n",
              "      <td>15.70</td>\n",
              "    </tr>\n",
              "    <tr>\n",
              "      <th>22</th>\n",
              "      <td>Mercedes-Benz EQC</td>\n",
              "      <td>Mercedes-Benz</td>\n",
              "      <td>EQC</td>\n",
              "      <td>334700</td>\n",
              "      <td>408</td>\n",
              "      <td>760</td>\n",
              "      <td>disc (front + rear)</td>\n",
              "      <td>4WD</td>\n",
              "      <td>80.0</td>\n",
              "      <td>414</td>\n",
              "      <td>...</td>\n",
              "      <td>2940.0</td>\n",
              "      <td>445.0</td>\n",
              "      <td>5</td>\n",
              "      <td>5</td>\n",
              "      <td>19</td>\n",
              "      <td>180</td>\n",
              "      <td>500.0</td>\n",
              "      <td>5.1</td>\n",
              "      <td>110</td>\n",
              "      <td>21.85</td>\n",
              "    </tr>\n",
              "    <tr>\n",
              "      <th>39</th>\n",
              "      <td>Tesla Model 3 Standard Range Plus</td>\n",
              "      <td>Tesla</td>\n",
              "      <td>Model 3 Standard Range Plus</td>\n",
              "      <td>195490</td>\n",
              "      <td>285</td>\n",
              "      <td>450</td>\n",
              "      <td>disc (front + rear)</td>\n",
              "      <td>2WD (rear)</td>\n",
              "      <td>54.0</td>\n",
              "      <td>430</td>\n",
              "      <td>...</td>\n",
              "      <td>NaN</td>\n",
              "      <td>NaN</td>\n",
              "      <td>5</td>\n",
              "      <td>5</td>\n",
              "      <td>18</td>\n",
              "      <td>225</td>\n",
              "      <td>425.0</td>\n",
              "      <td>5.6</td>\n",
              "      <td>150</td>\n",
              "      <td>NaN</td>\n",
              "    </tr>\n",
              "    <tr>\n",
              "      <th>40</th>\n",
              "      <td>Tesla Model 3 Long Range</td>\n",
              "      <td>Tesla</td>\n",
              "      <td>Model 3 Long Range</td>\n",
              "      <td>235490</td>\n",
              "      <td>372</td>\n",
              "      <td>510</td>\n",
              "      <td>disc (front + rear)</td>\n",
              "      <td>4WD</td>\n",
              "      <td>75.0</td>\n",
              "      <td>580</td>\n",
              "      <td>...</td>\n",
              "      <td>NaN</td>\n",
              "      <td>NaN</td>\n",
              "      <td>5</td>\n",
              "      <td>5</td>\n",
              "      <td>18</td>\n",
              "      <td>233</td>\n",
              "      <td>425.0</td>\n",
              "      <td>4.4</td>\n",
              "      <td>150</td>\n",
              "      <td>NaN</td>\n",
              "    </tr>\n",
              "    <tr>\n",
              "      <th>41</th>\n",
              "      <td>Tesla Model 3 Performance</td>\n",
              "      <td>Tesla</td>\n",
              "      <td>Model 3 Performance</td>\n",
              "      <td>260490</td>\n",
              "      <td>480</td>\n",
              "      <td>639</td>\n",
              "      <td>disc (front + rear)</td>\n",
              "      <td>4WD</td>\n",
              "      <td>75.0</td>\n",
              "      <td>567</td>\n",
              "      <td>...</td>\n",
              "      <td>NaN</td>\n",
              "      <td>NaN</td>\n",
              "      <td>5</td>\n",
              "      <td>5</td>\n",
              "      <td>20</td>\n",
              "      <td>261</td>\n",
              "      <td>425.0</td>\n",
              "      <td>3.3</td>\n",
              "      <td>150</td>\n",
              "      <td>NaN</td>\n",
              "    </tr>\n",
              "    <tr>\n",
              "      <th>47</th>\n",
              "      <td>Volkswagen ID.3 Pro Performance</td>\n",
              "      <td>Volkswagen</td>\n",
              "      <td>ID.3 Pro Performance</td>\n",
              "      <td>155890</td>\n",
              "      <td>204</td>\n",
              "      <td>310</td>\n",
              "      <td>disc (front) + drum (rear)</td>\n",
              "      <td>2WD (rear)</td>\n",
              "      <td>58.0</td>\n",
              "      <td>425</td>\n",
              "      <td>...</td>\n",
              "      <td>2270.0</td>\n",
              "      <td>540.0</td>\n",
              "      <td>5</td>\n",
              "      <td>5</td>\n",
              "      <td>18</td>\n",
              "      <td>160</td>\n",
              "      <td>385.0</td>\n",
              "      <td>7.3</td>\n",
              "      <td>100</td>\n",
              "      <td>15.40</td>\n",
              "    </tr>\n",
              "    <tr>\n",
              "      <th>48</th>\n",
              "      <td>Volkswagen ID.3 Pro S</td>\n",
              "      <td>Volkswagen</td>\n",
              "      <td>ID.3 Pro S</td>\n",
              "      <td>179990</td>\n",
              "      <td>204</td>\n",
              "      <td>310</td>\n",
              "      <td>disc (front) + drum (rear)</td>\n",
              "      <td>2WD (rear)</td>\n",
              "      <td>77.0</td>\n",
              "      <td>549</td>\n",
              "      <td>...</td>\n",
              "      <td>2280.0</td>\n",
              "      <td>412.0</td>\n",
              "      <td>5</td>\n",
              "      <td>5</td>\n",
              "      <td>19</td>\n",
              "      <td>160</td>\n",
              "      <td>385.0</td>\n",
              "      <td>7.9</td>\n",
              "      <td>125</td>\n",
              "      <td>15.90</td>\n",
              "    </tr>\n",
              "    <tr>\n",
              "      <th>49</th>\n",
              "      <td>Volkswagen ID.4 1st</td>\n",
              "      <td>Volkswagen</td>\n",
              "      <td>ID.4 1st</td>\n",
              "      <td>202390</td>\n",
              "      <td>204</td>\n",
              "      <td>310</td>\n",
              "      <td>disc (front) + drum (rear)</td>\n",
              "      <td>2WD (rear)</td>\n",
              "      <td>77.0</td>\n",
              "      <td>500</td>\n",
              "      <td>...</td>\n",
              "      <td>2660.0</td>\n",
              "      <td>661.0</td>\n",
              "      <td>5</td>\n",
              "      <td>5</td>\n",
              "      <td>20</td>\n",
              "      <td>160</td>\n",
              "      <td>543.0</td>\n",
              "      <td>8.5</td>\n",
              "      <td>125</td>\n",
              "      <td>18.00</td>\n",
              "    </tr>\n",
              "  </tbody>\n",
              "</table>\n",
              "<p>12 rows × 25 columns</p>\n",
              "</div>"
            ],
            "text/plain": [
              "                        Car full name           Make  \\\n",
              "0              Audi e-tron 55 quattro           Audi   \n",
              "8                             BMW iX3            BMW   \n",
              "15        Hyundai Kona electric 64kWh        Hyundai   \n",
              "18                   Kia e-Niro 64kWh            Kia   \n",
              "20                   Kia e-Soul 64kWh            Kia   \n",
              "22                  Mercedes-Benz EQC  Mercedes-Benz   \n",
              "39  Tesla Model 3 Standard Range Plus          Tesla   \n",
              "40           Tesla Model 3 Long Range          Tesla   \n",
              "41          Tesla Model 3 Performance          Tesla   \n",
              "47    Volkswagen ID.3 Pro Performance     Volkswagen   \n",
              "48              Volkswagen ID.3 Pro S     Volkswagen   \n",
              "49                Volkswagen ID.4 1st     Volkswagen   \n",
              "\n",
              "                          Model  Minimal price (gross) [PLN]  \\\n",
              "0             e-tron 55 quattro                       345700   \n",
              "8                           iX3                       282900   \n",
              "15          Kona electric 64kWh                       178400   \n",
              "18                 e-Niro 64kWh                       167990   \n",
              "20                 e-Soul 64kWh                       160990   \n",
              "22                          EQC                       334700   \n",
              "39  Model 3 Standard Range Plus                       195490   \n",
              "40           Model 3 Long Range                       235490   \n",
              "41          Model 3 Performance                       260490   \n",
              "47         ID.3 Pro Performance                       155890   \n",
              "48                   ID.3 Pro S                       179990   \n",
              "49                     ID.4 1st                       202390   \n",
              "\n",
              "    Engine power [KM]  Maximum torque [Nm]              Type of brakes  \\\n",
              "0                 360                  664         disc (front + rear)   \n",
              "8                 286                  400         disc (front + rear)   \n",
              "15                204                  395         disc (front + rear)   \n",
              "18                204                  395         disc (front + rear)   \n",
              "20                204                  395         disc (front + rear)   \n",
              "22                408                  760         disc (front + rear)   \n",
              "39                285                  450         disc (front + rear)   \n",
              "40                372                  510         disc (front + rear)   \n",
              "41                480                  639         disc (front + rear)   \n",
              "47                204                  310  disc (front) + drum (rear)   \n",
              "48                204                  310  disc (front) + drum (rear)   \n",
              "49                204                  310  disc (front) + drum (rear)   \n",
              "\n",
              "     Drive type  Battery capacity [kWh]  Range (WLTP) [km]  ...  \\\n",
              "0           4WD                    95.0                438  ...   \n",
              "8    2WD (rear)                    80.0                460  ...   \n",
              "15  2WD (front)                    64.0                449  ...   \n",
              "18  2WD (front)                    64.0                455  ...   \n",
              "20  2WD (front)                    64.0                452  ...   \n",
              "22          4WD                    80.0                414  ...   \n",
              "39   2WD (rear)                    54.0                430  ...   \n",
              "40          4WD                    75.0                580  ...   \n",
              "41          4WD                    75.0                567  ...   \n",
              "47   2WD (rear)                    58.0                425  ...   \n",
              "48   2WD (rear)                    77.0                549  ...   \n",
              "49   2WD (rear)                    77.0                500  ...   \n",
              "\n",
              "    Permissable gross weight [kg]  Maximum load capacity [kg]  \\\n",
              "0                          3130.0                       640.0   \n",
              "8                          2725.0                       540.0   \n",
              "15                         2170.0                       485.0   \n",
              "18                         2230.0                       493.0   \n",
              "20                         1682.0                       498.0   \n",
              "22                         2940.0                       445.0   \n",
              "39                            NaN                         NaN   \n",
              "40                            NaN                         NaN   \n",
              "41                            NaN                         NaN   \n",
              "47                         2270.0                       540.0   \n",
              "48                         2280.0                       412.0   \n",
              "49                         2660.0                       661.0   \n",
              "\n",
              "    Number of seats  Number of doors  Tire size [in]  Maximum speed [kph]  \\\n",
              "0                 5                5              19                  200   \n",
              "8                 5                5              19                  180   \n",
              "15                5                5              17                  167   \n",
              "18                5                5              17                  167   \n",
              "20                5                5              17                  167   \n",
              "22                5                5              19                  180   \n",
              "39                5                5              18                  225   \n",
              "40                5                5              18                  233   \n",
              "41                5                5              20                  261   \n",
              "47                5                5              18                  160   \n",
              "48                5                5              19                  160   \n",
              "49                5                5              20                  160   \n",
              "\n",
              "    Boot capacity (VDA) [l]  Acceleration 0-100 kph [s]  \\\n",
              "0                     660.0                         5.7   \n",
              "8                     510.0                         6.8   \n",
              "15                    332.0                         7.6   \n",
              "18                    451.0                         7.8   \n",
              "20                    315.0                         7.9   \n",
              "22                    500.0                         5.1   \n",
              "39                    425.0                         5.6   \n",
              "40                    425.0                         4.4   \n",
              "41                    425.0                         3.3   \n",
              "47                    385.0                         7.3   \n",
              "48                    385.0                         7.9   \n",
              "49                    543.0                         8.5   \n",
              "\n",
              "    Maximum DC charging power [kW]  mean - Energy consumption [kWh/100 km]  \n",
              "0                              150                                   24.45  \n",
              "8                              150                                   18.80  \n",
              "15                             100                                   15.40  \n",
              "18                             100                                   15.90  \n",
              "20                             100                                   15.70  \n",
              "22                             110                                   21.85  \n",
              "39                             150                                     NaN  \n",
              "40                             150                                     NaN  \n",
              "41                             150                                     NaN  \n",
              "47                             100                                   15.40  \n",
              "48                             125                                   15.90  \n",
              "49                             125                                   18.00  \n",
              "\n",
              "[12 rows x 25 columns]"
            ]
          },
          "execution_count": 11,
          "metadata": {},
          "output_type": "execute_result"
        }
      ],
      "source": [
        "filtered_df =vehicle_data[(vehicle_data[\"Minimal price (gross) [PLN]\"] <= 350000) & (vehicle_data[\"Range (WLTP) [km]\"] >= 400)]\n",
        "#here filter the data where the both conditions were matched\n",
        "filtered_df"
      ]
    },
    {
      "cell_type": "code",
      "execution_count": null,
      "id": "47416b1a-9868-43e6-a053-668e0a8c8065",
      "metadata": {
        "id": "47416b1a-9868-43e6-a053-668e0a8c8065",
        "outputId": "3aba3be7-1e6a-4ded-ac5d-25cc90ac4afc"
      },
      "outputs": [
        {
          "data": {
            "text/plain": [
              "(12, 25)"
            ]
          },
          "execution_count": 12,
          "metadata": {},
          "output_type": "execute_result"
        }
      ],
      "source": [
        "filtered_df.shape"
      ]
    },
    {
      "cell_type": "markdown",
      "id": "8ae6ae39-f08c-44bb-bc33-3ab08f16be81",
      "metadata": {
        "id": "8ae6ae39-f08c-44bb-bc33-3ab08f16be81"
      },
      "source": [
        "## <span style=\"color:blue\">b) Group them by the manufacturer (Make).</span>"
      ]
    },
    {
      "cell_type": "code",
      "execution_count": null,
      "id": "54122252-dae3-4396-85d1-885a4d17602f",
      "metadata": {
        "id": "54122252-dae3-4396-85d1-885a4d17602f",
        "outputId": "1cfd13a8-3abb-4668-a9be-60b00b79d114"
      },
      "outputs": [
        {
          "data": {
            "text/plain": [
              "Make\n",
              "Audi             1\n",
              "BMW              1\n",
              "Hyundai          1\n",
              "Kia              2\n",
              "Mercedes-Benz    1\n",
              "Tesla            3\n",
              "Volkswagen       3\n",
              "dtype: int64"
            ]
          },
          "execution_count": 13,
          "metadata": {},
          "output_type": "execute_result"
        }
      ],
      "source": [
        "manufarcture_make=filtered_df.groupby('Make')\n",
        "make_data=manufarcture_make.size()\n",
        "make_data"
      ]
    },
    {
      "cell_type": "markdown",
      "id": "434a2c2d-76cc-4b7b-89fd-834694d1ad95",
      "metadata": {
        "id": "434a2c2d-76cc-4b7b-89fd-834694d1ad95"
      },
      "source": [
        "### <span style=\"color:skyblue\">VISULIZATION 1"
      ]
    },
    {
      "cell_type": "code",
      "execution_count": null,
      "id": "f433cda0-fb15-44de-93af-b76b840bf0c8",
      "metadata": {
        "id": "f433cda0-fb15-44de-93af-b76b840bf0c8",
        "outputId": "dc5e6ee2-1466-41f7-e45f-2e8c399eb922"
      },
      "outputs": [
        {
          "data": {
            "image/png": "[encoded data removed]",
            "text/plain": [
              "<Figure size 1000x600 with 1 Axes>"
            ]
          },
          "metadata": {},
          "output_type": "display_data"
        }
      ],
      "source": [
        "make_data.plot(kind='bar', color='Green', figsize=(10, 6))\n",
        "plt.title('EV Count by Manufacturer')\n",
        "plt.xlabel('Manufacturer')\n",
        "plt.ylabel('Number of EVs')\n",
        "plt.xticks(rotation=45)\n",
        "plt.grid(axis='y', linestyle='--', alpha=0.7)\n",
        "plt.tight_layout()\n",
        "plt.show()"
      ]
    },
    {
      "cell_type": "markdown",
      "id": "1ddce6db-acff-4ec3-b4b6-7da22c106b53",
      "metadata": {
        "id": "1ddce6db-acff-4ec3-b4b6-7da22c106b53"
      },
      "source": [
        "### <span style=\"color:skyblue\">VISULIZATION 2"
      ]
    },
    {
      "cell_type": "code",
      "execution_count": null,
      "id": "f47386e5-2ad9-4842-8024-c23a7102e263",
      "metadata": {
        "id": "f47386e5-2ad9-4842-8024-c23a7102e263",
        "outputId": "a8a1c245-aa66-4e94-f250-57b303cb3b19"
      },
      "outputs": [
        {
          "data": {
            "image/png": "[encoded data removed]",
            "text/plain": [
              "<Figure size 1000x600 with 1 Axes>"
            ]
          },
          "metadata": {},
          "output_type": "display_data"
        }
      ],
      "source": [
        "make_data.plot(kind='pie', color='Green', figsize=(10, 6))\n",
        "plt.title('EV Count by Manufacturer')\n",
        "plt.xlabel('Manufacturer')\n",
        "plt.ylabel('Number of EVs')\n",
        "plt.xticks(rotation=45)\n",
        "plt.grid(axis='y', linestyle='--', alpha=0.7)\n",
        "plt.tight_layout()\n",
        "plt.show()\n"
      ]
    },
    {
      "cell_type": "markdown",
      "id": "40d8a6a2-93e8-4ae5-bb84-e119696a0f8a",
      "metadata": {
        "id": "40d8a6a2-93e8-4ae5-bb84-e119696a0f8a"
      },
      "source": [
        "### <span style=\"color:BLUE\">c) Calculate the average battery capacity for each manufacturer.</span>"
      ]
    },
    {
      "cell_type": "code",
      "execution_count": null,
      "id": "1b46b2f0-d608-468c-8fb5-193b40a68a1b",
      "metadata": {
        "id": "1b46b2f0-d608-468c-8fb5-193b40a68a1b",
        "outputId": "f7714f23-eaf7-4e37-d7d4-273d47dc264c"
      },
      "outputs": [
        {
          "data": {
            "text/plain": [
              "Make\n",
              "Audi             95.000000\n",
              "BMW              80.000000\n",
              "Hyundai          64.000000\n",
              "Kia              64.000000\n",
              "Mercedes-Benz    80.000000\n",
              "Tesla            68.000000\n",
              "Volkswagen       70.666667\n",
              "Name: Battery capacity [kWh], dtype: float64"
            ]
          },
          "execution_count": 16,
          "metadata": {},
          "output_type": "execute_result"
        }
      ],
      "source": [
        "avg_battery_by_make =manufarcture_make[\"Battery capacity [kWh]\"].mean()\n",
        "avg_battery_by_make"
      ]
    },
    {
      "cell_type": "markdown",
      "id": "fa7acaed-56a3-45b6-bd74-0bcce1453bbb",
      "metadata": {
        "id": "fa7acaed-56a3-45b6-bd74-0bcce1453bbb"
      },
      "source": [
        "### <span style=\"color:skyblue\">Visulization</span>"
      ]
    },
    {
      "cell_type": "code",
      "execution_count": null,
      "id": "347cf1f7-2ec9-4223-ba14-24935bb51432",
      "metadata": {
        "id": "347cf1f7-2ec9-4223-ba14-24935bb51432",
        "outputId": "cfea2462-cecc-41d4-cb79-f23fa061905e"
      },
      "outputs": [
        {
          "data": {
            "image/png": "[encoded data removed]",
            "text/plain": [
              "<Figure size 1000x600 with 1 Axes>"
            ]
          },
          "metadata": {},
          "output_type": "display_data"
        }
      ],
      "source": [
        "avg_battery_by_make.sort_values().plot(kind='barh', color='skyblue', figsize=(10, 6))\n",
        "plt.title('Average Battery Capacity by Manufacturer')\n",
        "plt.xlabel('Battery Capacity (kWh)')\n",
        "plt.ylabel('Manufacturer')\n",
        "plt.grid(axis='x', linestyle='--', alpha=0.7)\n",
        "plt.tight_layout()\n",
        "plt.show()"
      ]
    },
    {
      "cell_type": "markdown",
      "id": "01355330-9ed2-4e3d-9f6d-92a4fd164830",
      "metadata": {
        "id": "01355330-9ed2-4e3d-9f6d-92a4fd164830"
      },
      "source": [
        "### <span style=\"color:skyblue\">ANALYSIS</span>"
      ]
    },
    {
      "cell_type": "markdown",
      "id": "438ef35f-041d-476e-8257-ba2645ded82d",
      "metadata": {
        "id": "438ef35f-041d-476e-8257-ba2645ded82d"
      },
      "source": [
        "- Audi stands out as the manufacture with the highest average battery capacity ,nearing 95 kWh ,this means indicates a strong focus on long-range        electric vehicles.\n",
        "- Mercedes-Benz and BMW are tied in the second place, each with an average capacity of around 80 kWh. This suggests they are also targeting premium EV   segments with decent range capabilities.\n",
        "- Volkswagen, Tesla, Kia, and Hyundai form the next tier, each with average battery capacities ranging from approximately 60 to 70 kWh.\n",
        "   - Kia and Hyundai has the similar average capacity\n",
        "   - volkswagen has lead the tesla vehicles\n",
        "- This visual revels that Audi ,mercedes benz and BMW offeres the higher battery capacities compared to the others cars\n",
        "- Among all the cars the Audi has provide average battery capacity"
      ]
    },
    {
      "cell_type": "markdown",
      "id": "ea32ff77-993b-4405-8ea0-ce69ff3dd557",
      "metadata": {
        "id": "ea32ff77-993b-4405-8ea0-ce69ff3dd557"
      },
      "source": [
        "\n",
        "## <span style=\"color:yellow\">Task 2: You suspect some EVs have unusually high or low energy consumption. Find the outliers in the mean- Energy consumption [kWh/100 km] column."
      ]
    },
    {
      "cell_type": "code",
      "execution_count": null,
      "id": "536d6c94-cf79-4897-adee-cd20c65f55d5",
      "metadata": {
        "id": "536d6c94-cf79-4897-adee-cd20c65f55d5",
        "outputId": "d4735b35-caf4-41ca-f6b9-48ecfdeefb3f"
      },
      "outputs": [
        {
          "data": {
            "text/plain": [
              "9"
            ]
          },
          "execution_count": 65,
          "metadata": {},
          "output_type": "execute_result"
        }
      ],
      "source": [
        "vehicle_data['mean - Energy consumption [kWh/100 km]'].isnull().sum()"
      ]
    },
    {
      "cell_type": "code",
      "execution_count": null,
      "id": "8331c786-7205-4efb-b965-c9854ffdcd4f",
      "metadata": {
        "id": "8331c786-7205-4efb-b965-c9854ffdcd4f"
      },
      "outputs": [],
      "source": [
        "df_clean=vehicle_data.dropna(subset='mean - Energy consumption [kWh/100 km]')"
      ]
    },
    {
      "cell_type": "code",
      "execution_count": null,
      "id": "266fc8ef-e705-4df8-9463-8ca448d07d56",
      "metadata": {
        "id": "266fc8ef-e705-4df8-9463-8ca448d07d56",
        "outputId": "39a56ca1-674f-4849-ff88-5fde13994e73"
      },
      "outputs": [
        {
          "data": {
            "text/plain": [
              "(44, 25)"
            ]
          },
          "execution_count": 67,
          "metadata": {},
          "output_type": "execute_result"
        }
      ],
      "source": [
        "df_clean.shape"
      ]
    },
    {
      "cell_type": "code",
      "execution_count": null,
      "id": "f740dddc-207e-46a4-ad49-31b829538169",
      "metadata": {
        "id": "f740dddc-207e-46a4-ad49-31b829538169",
        "outputId": "bcf9f4c2-2f55-48bf-b2fe-6a34c305a43b"
      },
      "outputs": [
        {
          "data": {
            "text/html": [
              "<div>\n",
              "<style scoped>\n",
              "    .dataframe tbody tr th:only-of-type {\n",
              "        vertical-align: middle;\n",
              "    }\n",
              "\n",
              "    .dataframe tbody tr th {\n",
              "        vertical-align: top;\n",
              "    }\n",
              "\n",
              "    .dataframe thead th {\n",
              "        text-align: right;\n",
              "    }\n",
              "</style>\n",
              "<table border=\"1\" class=\"dataframe\">\n",
              "  <thead>\n",
              "    <tr style=\"text-align: right;\">\n",
              "      <th></th>\n",
              "      <th>Car full name</th>\n",
              "      <th>Make</th>\n",
              "      <th>Model</th>\n",
              "      <th>Minimal price (gross) [PLN]</th>\n",
              "      <th>Engine power [KM]</th>\n",
              "      <th>Maximum torque [Nm]</th>\n",
              "      <th>Type of brakes</th>\n",
              "      <th>Drive type</th>\n",
              "      <th>Battery capacity [kWh]</th>\n",
              "      <th>Range (WLTP) [km]</th>\n",
              "      <th>...</th>\n",
              "      <th>Permissable gross weight [kg]</th>\n",
              "      <th>Maximum load capacity [kg]</th>\n",
              "      <th>Number of seats</th>\n",
              "      <th>Number of doors</th>\n",
              "      <th>Tire size [in]</th>\n",
              "      <th>Maximum speed [kph]</th>\n",
              "      <th>Boot capacity (VDA) [l]</th>\n",
              "      <th>Acceleration 0-100 kph [s]</th>\n",
              "      <th>Maximum DC charging power [kW]</th>\n",
              "      <th>mean - Energy consumption [kWh/100 km]</th>\n",
              "    </tr>\n",
              "  </thead>\n",
              "  <tbody>\n",
              "  </tbody>\n",
              "</table>\n",
              "<p>0 rows × 25 columns</p>\n",
              "</div>"
            ],
            "text/plain": [
              "Empty DataFrame\n",
              "Columns: [Car full name, Make, Model, Minimal price (gross) [PLN], Engine power [KM], Maximum torque [Nm], Type of brakes, Drive type, Battery capacity [kWh], Range (WLTP) [km], Wheelbase [cm], Length [cm], Width [cm], Height [cm], Minimal empty weight [kg], Permissable gross weight [kg], Maximum load capacity [kg], Number of seats, Number of doors, Tire size [in], Maximum speed [kph], Boot capacity (VDA) [l], Acceleration 0-100 kph [s], Maximum DC charging power [kW], mean - Energy consumption [kWh/100 km]]\n",
              "Index: []\n",
              "\n",
              "[0 rows x 25 columns]"
            ]
          },
          "execution_count": 75,
          "metadata": {},
          "output_type": "execute_result"
        }
      ],
      "source": [
        "q1=df_clean['mean - Energy consumption [kWh/100 km]'].quantile(0.25)\n",
        "q3=df_clean['mean - Energy consumption [kWh/100 km]'].quantile(0.75)\n",
        "IQR=q3-q1\n",
        "lower_bound = q1 - 1.5 * IQR\n",
        "upper_bound = q3 + 1.5 * IQR\n",
        "\n",
        "outliers = df_clean[\n",
        "    (df_clean['mean - Energy consumption [kWh/100 km]'] < lower_bound) |\n",
        "    (df_clean['mean - Energy consumption [kWh/100 km]'] > upper_bound)\n",
        "]\n",
        "outliers.head()"
      ]
    },
    {
      "cell_type": "code",
      "execution_count": null,
      "id": "2208a861-9b8c-4624-8f7c-2bc97d0b54db",
      "metadata": {
        "id": "2208a861-9b8c-4624-8f7c-2bc97d0b54db",
        "outputId": "94370fcb-39a4-4458-d1d0-246b5b434c52"
      },
      "outputs": [
        {
          "name": "stdout",
          "output_type": "stream",
          "text": [
            "Q1: 15.6\n",
            "Q3: 23.5\n",
            "IQR: 7.9\n",
            "Lower Bound: 3.7499999999999982\n",
            "Upper Bound: 35.35\n"
          ]
        }
      ],
      "source": [
        "print(\"Q1:\", q1)\n",
        "print(\"Q3:\", q3)\n",
        "print(\"IQR:\", IQR)\n",
        "print(\"Lower Bound:\", lower_bound)\n",
        "print(\"Upper Bound:\", upper_bound)"
      ]
    },
    {
      "cell_type": "code",
      "execution_count": null,
      "id": "95a700fd-d4f8-4c35-b336-aa0e35e342d8",
      "metadata": {
        "id": "95a700fd-d4f8-4c35-b336-aa0e35e342d8",
        "outputId": "b5bf64cb-5153-42dd-8111-8544b87c95ff"
      },
      "outputs": [
        {
          "name": "stdout",
          "output_type": "stream",
          "text": [
            "13.1\n",
            "28.2\n"
          ]
        }
      ],
      "source": [
        "print(df_clean['mean - Energy consumption [kWh/100 km]'].min())\n",
        "print(df_clean['mean - Energy consumption [kWh/100 km]'].max())"
      ]
    },
    {
      "cell_type": "markdown",
      "id": "7194b852-4968-446d-a392-6c775dc939c1",
      "metadata": {
        "id": "7194b852-4968-446d-a392-6c775dc939c1"
      },
      "source": [
        "### <span style=\"color:skyblue\">ANALYSIS"
      ]
    },
    {
      "cell_type": "code",
      "execution_count": null,
      "id": "202332d8-da21-46a9-ba31-a0c9430b02be",
      "metadata": {
        "id": "202332d8-da21-46a9-ba31-a0c9430b02be",
        "outputId": "2d02ab0a-ab3f-4ba7-b729-a2bca9797dc1"
      },
      "outputs": [
        {
          "data": {
            "text/plain": [
              "<Axes: xlabel='mean - Energy consumption [kWh/100 km]'>"
            ]
          },
          "execution_count": 64,
          "metadata": {},
          "output_type": "execute_result"
        },
        {
          "data": {
            "image/png": "[encoded data removed]",
            "text/plain": [
              "<Figure size 640x480 with 1 Axes>"
            ]
          },
          "metadata": {},
          "output_type": "display_data"
        }
      ],
      "source": [
        "sns.boxplot(x=df_clean['mean - Energy consumption [kWh/100 km]'])"
      ]
    },
    {
      "cell_type": "markdown",
      "id": "dd3bcda8-b3d0-4518-ab2c-d13ebdd5a11b",
      "metadata": {
        "id": "dd3bcda8-b3d0-4518-ab2c-d13ebdd5a11b"
      },
      "source": [
        "- Observation from the Image:\n",
        "   - The boxplot shows:\n",
        "   - A solid box between 15.5 and 23.6 (Q1 and Q3).\n",
        "   - Whiskers extending from about 13 to 28.\n",
        "    -No individual dots or circles beyond the whiskers.\n",
        "   - There is no outliers"
      ]
    },
    {
      "cell_type": "markdown",
      "id": "b224bdf9-0506-480f-85d1-0d13bc9d6470",
      "metadata": {
        "id": "b224bdf9-0506-480f-85d1-0d13bc9d6470"
      },
      "source": [
        "- As per the IQR(Inter quartile range) there is none of the outliers were detect\n",
        "  - Q1: 15.6\n",
        "  - Q3: 23.5\n",
        "  - IQR: 7.9\n",
        "  - Lower Bound: 3.7499999999999982\n",
        "  - Upper Bound: 35.35\n",
        "  - minmum-13.1\n",
        "  - maximum-28.2\n",
        "  - Data range is 13.1 to 28.2\n",
        "    - all the values in the column are between 13.1 to 28.2  which falls within in the safe range (3.7499 -35.35)\n",
        "- According to the IQR method, there are no statistical outliers in the mean - Energy consumption column. All values fall within the       normal range between 3.75 and 35.35 kWh/100 km, indicating consistent energy consumption among the vehicles in the dataset.\n",
        "\n"
      ]
    },
    {
      "cell_type": "markdown",
      "id": "fdd0e57c-217f-4219-8f50-e3128c5cbf3e",
      "metadata": {
        "id": "fdd0e57c-217f-4219-8f50-e3128c5cbf3e"
      },
      "source": [
        "## <span style=\"color:yellow\">Task 3: Your manager wants to know if there's a strong relationship between battery capacity and range."
      ]
    },
    {
      "cell_type": "markdown",
      "id": "58f8635e-7cf5-41cf-afc8-05845851d1c1",
      "metadata": {
        "id": "58f8635e-7cf5-41cf-afc8-05845851d1c1"
      },
      "source": [
        " ### <span style=\"color:blue\"> a) Create a suitable plot to visualize"
      ]
    },
    {
      "cell_type": "code",
      "execution_count": null,
      "id": "0a18e423-fcd5-4828-a50c-c63f381e188b",
      "metadata": {
        "id": "0a18e423-fcd5-4828-a50c-c63f381e188b",
        "outputId": "783dd7ba-b91b-4bbb-ac36-0f4906216948"
      },
      "outputs": [
        {
          "data": {
            "image/png": "[encoded data removed]",
            "text/plain": [
              "<Figure size 1000x600 with 1 Axes>"
            ]
          },
          "metadata": {},
          "output_type": "display_data"
        }
      ],
      "source": [
        "plt.figure(figsize=(10, 6))\n",
        "sns.regplot(\n",
        "    x='Battery capacity [kWh]',\n",
        "    y='Range (WLTP) [km]',\n",
        "    data=vehicle_data,\n",
        "    scatter_kws={\"color\": \"blue\"},\n",
        "    line_kws={\"color\": \"red\"}\n",
        ")\n",
        "plt.title('Battery Capacity vs Range (WLTP)')\n",
        "plt.xlabel('Battery Capacity [kWh]')\n",
        "plt.ylabel('Range (WLTP) [km]')\n",
        "plt.grid(True)\n",
        "plt.show()"
      ]
    },
    {
      "cell_type": "code",
      "execution_count": null,
      "id": "afafe4c1-f543-44d1-bba1-242bda7a60b9",
      "metadata": {
        "id": "afafe4c1-f543-44d1-bba1-242bda7a60b9",
        "outputId": "ead3f13a-20a9-4d33-8af0-66c8581b81b5"
      },
      "outputs": [
        {
          "name": "stdout",
          "output_type": "stream",
          "text": [
            "Pearson Correlation Coefficient between Battery Capacity and Range: 0.7950960301829404\n"
          ]
        }
      ],
      "source": [
        "correlation = df_clean['Battery capacity [kWh]'].corr(df_clean['Range (WLTP) [km]'])\n",
        "print(\"Pearson Correlation Coefficient between Battery Capacity and Range:\", correlation)"
      ]
    },
    {
      "cell_type": "markdown",
      "id": "ee76b618-b49d-4710-9c15-a9a2a345559d",
      "metadata": {
        "id": "ee76b618-b49d-4710-9c15-a9a2a345559d"
      },
      "source": [
        "### <span style=\"color:skyblue\">Analysis from the Plot:-"
      ]
    },
    {
      "cell_type": "markdown",
      "id": "a37b1263-a6bf-4c06-a8bd-8d7830466a56",
      "metadata": {
        "id": "a37b1263-a6bf-4c06-a8bd-8d7830466a56"
      },
      "source": [
        "- From the above i was created a scatter plot with regression line to visulize or to see the relationship between battery capacity and range\n",
        "- In the X-axis  i was mentioned battery capacity column and in the Y-axis Range and the redline represents the regression line basically it\n",
        "   showa the overall trend(regression line)\n",
        "- Each blue dot represents an electric car\n",
        "   the red line help us to see the direction\n",
        "- Basically this plot or visulial shows the strong positive relationship"
      ]
    },
    {
      "cell_type": "markdown",
      "id": "421c8af4-0407-4efb-bfcc-dbec9443aaa5",
      "metadata": {
        "id": "421c8af4-0407-4efb-bfcc-dbec9443aaa5"
      },
      "source": [
        " ### <span style=\"color:blue\">b) Highlight any insights."
      ]
    },
    {
      "cell_type": "markdown",
      "id": "1a1ba946-1e97-45cb-91e9-df553246170e",
      "metadata": {
        "id": "1a1ba946-1e97-45cb-91e9-df553246170e"
      },
      "source": [
        "### <span style=\"color:skyblue\">ANALYSIS"
      ]
    },
    {
      "cell_type": "markdown",
      "id": "533b77ee-331b-4d38-be8f-b558bc82927a",
      "metadata": {
        "id": "533b77ee-331b-4d38-be8f-b558bc82927a"
      },
      "source": [
        "- Strong positive relationship\n",
        "    - As the battery capacity increases ,the Range(WLTP) range also increases this is called a positive relationship.\n",
        "    -  This means the electric vehicle with large battery capacity typically can travel farther on a singel charge.\n",
        "    - In simple terms: larger batteries generally lead to longer driving range.\n",
        "    \n",
        "-  High corelation\n",
        "     - As we see in the 69 cell the correlation coefficient is 0.80 this means this shows the strong linear relationship\n",
        "     - this makes sense more energy stored more distance covered.\n",
        "     - this helps customers understand that battery size  is one of the biggest factor when choosing electric vehicle for long range travel.\n",
        "     \n",
        "-  As we clearly observe in the visual\n",
        "     - from 20 kWh to 60 kWh ,ranges increases a lot.\n",
        "     - from the 80 kWh to 100 kWh ,ranges increase slowly.\n",
        "        - As Battery capacity increases ,ranges also increases ,But After the around *) Kwh increase range become smaller ,this is due to extra weight of         larger batteries ,which reduces efficiences ,so manfacturer should not focus onky the bigger batteries but also on improving the overall design         to get better performance.\n",
        "        \n",
        "- Outliers\n",
        "    - A few data points are visibly below the regression line—these are outliers with high battery capacity but relatively lower range.\n",
        "      Such vehicles could be luxury EVs with heavy features or poor aerodynamics, which reduce range despite larger batteries.\n",
        "      \n",
        "- clustered performance in the middle range(40-70 Kwh)\n",
        "    - Most Ev are clustred in the 40 -70 Kwh range and achieve between 250-450 km\n",
        "      Low-Range EVs at ~35–45 kWh.\n"
      ]
    },
    {
      "cell_type": "markdown",
      "id": "71128452-0b90-4673-8412-a9ea849a3e31",
      "metadata": {
        "id": "71128452-0b90-4673-8412-a9ea849a3e31"
      },
      "source": [
        "### <span style=\"color:skyblue\">RECOMMENDATIONS"
      ]
    },
    {
      "cell_type": "markdown",
      "id": "4e4532a0-5ff6-4c52-95c8-fb39d1a9a829",
      "metadata": {
        "id": "4e4532a0-5ff6-4c52-95c8-fb39d1a9a829"
      },
      "source": [
        "- offer the electric vehicle(EV) with 65-80 kWh batteries\n",
        "   - these vehicles are give the long driving range  without needing very large batteries ,so that why focus on these type of range .\n",
        "   - these are efficient and perfect for the most people .\n",
        "   - ideal of mainstram users are who need good range for daily uses and weekend user.\n",
        "   \n",
        "- Create a budjet friendly city EV's with low battery\n",
        "   - Target city users who don’t need long range and hese cars are lighter, cheaper, and easier to maintain\n",
        "   \n",
        "- As we see as per the plot\n",
        "   - Avoid building EVs with very large batteries (90–100+ kWh) unless premium.\n",
        "   - Some EVs have big batteries but don’t give good range.\n",
        "   \n",
        "-  Add an “Eco Mode” in your software\n",
        "   - Let drivers extend range by lowering speed, limiting air conditioning, etc.\n",
        "   - This helps users get extra km when needed, especially for low battery situations.\n"
      ]
    },
    {
      "cell_type": "markdown",
      "id": "4483893f-d649-4634-8f70-df1aecebe984",
      "metadata": {
        "id": "4483893f-d649-4634-8f70-df1aecebe984"
      },
      "source": [
        "## <span style=\"color:yellow\">Task 4: Build an EV recommendation class. The class should allow users to input their budget, desired range, and battery capacity. The class should then return the top three EVs matching their criteria."
      ]
    },
    {
      "cell_type": "code",
      "execution_count": null,
      "id": "971f5bf7-1d0c-4bd8-a5b5-ec8ebffe0f21",
      "metadata": {
        "id": "971f5bf7-1d0c-4bd8-a5b5-ec8ebffe0f21",
        "outputId": "f586053f-8fba-4fde-f5e2-6d3d95cecc21"
      },
      "outputs": [
        {
          "name": "stdin",
          "output_type": "stream",
          "text": [
            "Enter your maximum budget (PLN):  350000\n",
            "Enter your minimum range (km):  460\n",
            "Enter your minimum battery capacity (kWh):  60\n"
          ]
        },
        {
          "data": {
            "text/html": [
              "<div>\n",
              "<style scoped>\n",
              "    .dataframe tbody tr th:only-of-type {\n",
              "        vertical-align: middle;\n",
              "    }\n",
              "\n",
              "    .dataframe tbody tr th {\n",
              "        vertical-align: top;\n",
              "    }\n",
              "\n",
              "    .dataframe thead th {\n",
              "        text-align: right;\n",
              "    }\n",
              "</style>\n",
              "<table border=\"1\" class=\"dataframe\">\n",
              "  <thead>\n",
              "    <tr style=\"text-align: right;\">\n",
              "      <th></th>\n",
              "      <th>Car full name</th>\n",
              "      <th>Minimal price (gross) [PLN]</th>\n",
              "      <th>Range (WLTP) [km]</th>\n",
              "      <th>Battery capacity [kWh]</th>\n",
              "      <th>mean - Energy consumption [kWh/100 km]</th>\n",
              "      <th>Model</th>\n",
              "    </tr>\n",
              "  </thead>\n",
              "  <tbody>\n",
              "    <tr>\n",
              "      <th>48</th>\n",
              "      <td>Volkswagen ID.3 Pro S</td>\n",
              "      <td>179990</td>\n",
              "      <td>549</td>\n",
              "      <td>77.0</td>\n",
              "      <td>15.9</td>\n",
              "      <td>ID.3 Pro S</td>\n",
              "    </tr>\n",
              "    <tr>\n",
              "      <th>49</th>\n",
              "      <td>Volkswagen ID.4 1st</td>\n",
              "      <td>202390</td>\n",
              "      <td>500</td>\n",
              "      <td>77.0</td>\n",
              "      <td>18.0</td>\n",
              "      <td>ID.4 1st</td>\n",
              "    </tr>\n",
              "    <tr>\n",
              "      <th>8</th>\n",
              "      <td>BMW iX3</td>\n",
              "      <td>282900</td>\n",
              "      <td>460</td>\n",
              "      <td>80.0</td>\n",
              "      <td>18.8</td>\n",
              "      <td>iX3</td>\n",
              "    </tr>\n",
              "  </tbody>\n",
              "</table>\n",
              "</div>"
            ],
            "text/plain": [
              "            Car full name  Minimal price (gross) [PLN]  Range (WLTP) [km]  \\\n",
              "48  Volkswagen ID.3 Pro S                       179990                549   \n",
              "49    Volkswagen ID.4 1st                       202390                500   \n",
              "8                 BMW iX3                       282900                460   \n",
              "\n",
              "    Battery capacity [kWh]  mean - Energy consumption [kWh/100 km]       Model  \n",
              "48                    77.0                                    15.9  ID.3 Pro S  \n",
              "49                    77.0                                    18.0    ID.4 1st  \n",
              "8                     80.0                                    18.8         iX3  "
            ]
          },
          "execution_count": 27,
          "metadata": {},
          "output_type": "execute_result"
        }
      ],
      "source": [
        "class Evrecommendersystem:\n",
        "    def __init__(self,data): #This constructor makes the copy of data set so it does not changes the outside changes\n",
        "        self.data=data.copy() #here the copy function will copy the entire data set\n",
        "\n",
        "    # basically the recommend function is a user defined function and in this function the recommendation would be done here only\n",
        "    # Here we passes a parameter based on these user parameters they select the top 3 Electrical vehicles\n",
        "    def recommend(self,user_budjet,user_range,user_min_battery_capacity):\n",
        "\n",
        "        # In the filtered variable will stored the data which can matches only with user input data,based  on that criteria only that data will selected\n",
        "        filtered = self.data[(self.data['Minimal price (gross) [PLN]'] <= user_budjet) &\n",
        "                                     (self.data['Range (WLTP) [km]'] >= user_range) &\n",
        "                                     (self.data['Battery capacity [kWh]'] >= user_min_battery_capacity)]\n",
        "\n",
        "        # If in case the user provided data will be not found or not there in a data set simply return that statement\n",
        "        if filtered.empty:\n",
        "            return \"No Electrical vehicle were found with this criteria\"\n",
        "\n",
        "        #In the top_3_Evs only stored the top 3 vechicles data  which can match with the the user criteria\n",
        "        top_3_EVs=filtered.sort_values(by=['Range (WLTP) [km]','Minimal price (gross) [PLN]'],ascending=[False,True]).head(3)\n",
        "\n",
        "         # Returns only selected columns in the top_3_EVs data\n",
        "        return top_3_EVs[['Car full name', 'Minimal price (gross) [PLN]',\n",
        "                      'Range (WLTP) [km]', 'Battery capacity [kWh]','mean - Energy consumption [kWh/100 km]','Model']]\n",
        "recommendere=Evrecommendersystem(df_clean)  # here recommendere is the object of the Evrecommendersystem class\n",
        "\n",
        "# This  are the user inputs\n",
        "# budget = 300000\n",
        "# desired_range = 678\n",
        "# battery_capacity = 50\n",
        "\n",
        "budget = float(input(\"Enter your maximum budget (PLN): \"))\n",
        "desired_range = float(input(\"Enter your minimum range (km): \"))\n",
        "battery_capacity = float(input(\"Enter your minimum battery capacity (kWh): \"))\n",
        "\n",
        "# we calling the recommend function and return values will stores into a top_matches variable\n",
        "top_matches = recommendere.recommend(budget, desired_range, battery_capacity)\n",
        "\n",
        "# print the top_matches\n",
        "top_matches"
      ]
    },
    {
      "cell_type": "markdown",
      "id": "d133b71d-92e3-4cad-bcdd-6c61e3b4e7c7",
      "metadata": {
        "id": "d133b71d-92e3-4cad-bcdd-6c61e3b4e7c7"
      },
      "source": [
        "### <span style=\"color:skyblue\">FLOW CHART"
      ]
    },
    {
      "cell_type": "markdown",
      "id": "4c28e83c-9322-47ab-8504-d59f10979508",
      "metadata": {
        "id": "4c28e83c-9322-47ab-8504-d59f10979508"
      },
      "source": [
        " START\n",
        "  │\n",
        "User Inputs:\n",
        "- Budget\n",
        "- Min Range\n",
        "- Min Battery Capacity\n",
        "  │\n",
        "Filter EVs:\n",
        "- Price ≤ Budget\n",
        "- Range ≥ Min Range\n",
        "- Battery ≥ Min Battery\n",
        "  │\n",
        "If No EVs Found → Show \"No EVs Found\" Message\n",
        "  │\n",
        "If Matches Found:\n",
        "- Sort by: Highest Range --> Lowest Price\n",
        "- Select Top 3 EVs\n",
        "  │\n",
        "Show:\n",
        "- Car full Name\n",
        "- minimal Price\n",
        "- Range\n",
        "- Battery Capacity\n",
        "- mean energy consumption\n",
        "- model\n",
        "  │\n",
        " END\n",
        "\n"
      ]
    },
    {
      "cell_type": "markdown",
      "id": "4eecef86-e8c2-4227-a9f2-bc66b554f802",
      "metadata": {
        "id": "4eecef86-e8c2-4227-a9f2-bc66b554f802"
      },
      "source": [
        " ## <span style=\"color:yellow\">Task 5: Inferential Statistics– Hypothesis Testing: Test whether there is a significant difference in the average Engine power [KM] of vehicles manufactured by two leading manufacturers i.e. Tesla and Audi. What insights can you draw from the test results? Recommendations and Conclusion: Provide actionable insights based on your analysis. (Conduct a two sample t-test using ttest_ind from scipy.stats module)"
      ]
    },
    {
      "cell_type": "markdown",
      "id": "af8d393f-a4f0-4040-b002-5f66a080b3f6",
      "metadata": {
        "id": "af8d393f-a4f0-4040-b002-5f66a080b3f6"
      },
      "source": [
        "### <span style=\"color:yellow\">OBJECTIVE:-\n",
        "\n",
        "Main objective of the task is Test weather there is a significant difference in the average power[KM] of vehicles manufactured by Tesla and Audi using a Two sample t-test\n",
        "\n",
        "we are comparing the means of two independent groups\n",
        "Group 1:- is the average Engine power of Tesla\n",
        "Group 2:- is the average Engine power of Audi"
      ]
    },
    {
      "cell_type": "markdown",
      "id": "00110707-55c1-4e9f-92bb-1af8539149e5",
      "metadata": {
        "id": "00110707-55c1-4e9f-92bb-1af8539149e5"
      },
      "source": [
        "First we need to make the what the null hypothesis and what the alternative hypothesis\n",
        "\n",
        "- NULL Hypothesis(HO)\n",
        "  - The average power engine (KM) of Tesla and Audi is the same\n",
        "  -  H0=mean of tesla= mean of audi\n",
        "    - H0: μ Tesla = μ Audi\n",
        "\n",
        "- ALTERNATIVE Hypothesis(Ha)\n",
        "  - The average power engine of Tesla and Audi is the different\n",
        "   - Ha: μ Tesla != μ Audi\n",
        "\n",
        "- Level of significance is (α = 0.05 (i.e., 5%))"
      ]
    },
    {
      "cell_type": "code",
      "execution_count": null,
      "id": "226560ab-8480-4334-9f4c-868f29f9ccb7",
      "metadata": {
        "id": "226560ab-8480-4334-9f4c-868f29f9ccb7",
        "outputId": "10006f2f-2dc2-46b5-f61e-f7f97ac6197b"
      },
      "outputs": [
        {
          "data": {
            "text/plain": [
              "Car full name                             0\n",
              "Make                                      0\n",
              "Model                                     0\n",
              "Minimal price (gross) [PLN]               0\n",
              "Engine power [KM]                         0\n",
              "Maximum torque [Nm]                       0\n",
              "Type of brakes                            1\n",
              "Drive type                                0\n",
              "Battery capacity [kWh]                    0\n",
              "Range (WLTP) [km]                         0\n",
              "Wheelbase [cm]                            0\n",
              "Length [cm]                               0\n",
              "Width [cm]                                0\n",
              "Height [cm]                               0\n",
              "Minimal empty weight [kg]                 0\n",
              "Permissable gross weight [kg]             0\n",
              "Maximum load capacity [kg]                0\n",
              "Number of seats                           0\n",
              "Number of doors                           0\n",
              "Tire size [in]                            0\n",
              "Maximum speed [kph]                       0\n",
              "Boot capacity (VDA) [l]                   1\n",
              "Acceleration 0-100 kph [s]                2\n",
              "Maximum DC charging power [kW]            0\n",
              "mean - Energy consumption [kWh/100 km]    0\n",
              "dtype: int64"
            ]
          },
          "execution_count": 29,
          "metadata": {},
          "output_type": "execute_result"
        }
      ],
      "source": [
        "df_clean.isnull().sum()"
      ]
    },
    {
      "cell_type": "code",
      "execution_count": null,
      "id": "92b41c1c-d8e9-4073-8cd6-217af1b2a034",
      "metadata": {
        "id": "92b41c1c-d8e9-4073-8cd6-217af1b2a034",
        "outputId": "b479d58f-15c7-446b-c947-0f5c51e4c007"
      },
      "outputs": [
        {
          "data": {
            "text/plain": [
              "Index(['Car full name', 'Make', 'Model', 'Minimal price (gross) [PLN]',\n",
              "       'Engine power [KM]', 'Maximum torque [Nm]', 'Type of brakes',\n",
              "       'Drive type', 'Battery capacity [kWh]', 'Range (WLTP) [km]',\n",
              "       'Wheelbase [cm]', 'Length [cm]', 'Width [cm]', 'Height [cm]',\n",
              "       'Minimal empty weight [kg]', 'Permissable gross weight [kg]',\n",
              "       'Maximum load capacity [kg]', 'Number of seats', 'Number of doors',\n",
              "       'Tire size [in]', 'Maximum speed [kph]', 'Boot capacity (VDA) [l]',\n",
              "       'Acceleration 0-100 kph [s]', 'Maximum DC charging power [kW]',\n",
              "       'mean - Energy consumption [kWh/100 km]'],\n",
              "      dtype='object')"
            ]
          },
          "execution_count": 36,
          "metadata": {},
          "output_type": "execute_result"
        }
      ],
      "source": [
        "vehicle_data.columns"
      ]
    },
    {
      "cell_type": "code",
      "execution_count": null,
      "id": "41ffd4b7-5f51-4067-9bad-06d68425f917",
      "metadata": {
        "id": "41ffd4b7-5f51-4067-9bad-06d68425f917",
        "outputId": "c2c1707b-15b8-42ef-a515-2bd0a851db66"
      },
      "outputs": [
        {
          "data": {
            "text/plain": [
              "array(['Audi', 'BMW', 'Citroën', 'DS', 'Honda', 'Hyundai', 'Jaguar',\n",
              "       'Kia', 'Mazda', 'Mercedes-Benz', 'Mini', 'Nissan', 'Opel',\n",
              "       'Peugeot', 'Porsche', 'Renault', 'Skoda', 'Smart', 'Tesla',\n",
              "       'Volkswagen'], dtype=object)"
            ]
          },
          "execution_count": 35,
          "metadata": {},
          "output_type": "execute_result"
        }
      ],
      "source": [
        "vehicle_data['Make'].unique()"
      ]
    },
    {
      "cell_type": "code",
      "execution_count": null,
      "id": "09a1c115-5a17-470c-9385-cd4b5d0adcfb",
      "metadata": {
        "id": "09a1c115-5a17-470c-9385-cd4b5d0adcfb"
      },
      "outputs": [],
      "source": [
        "tesla_engine=vehicle_data[vehicle_data['Make']=='Tesla']['Engine power [KM]']\n",
        "audi_engine=vehicle_data[vehicle_data['Make']=='Audi']['Engine power [KM]']"
      ]
    },
    {
      "cell_type": "code",
      "execution_count": null,
      "id": "3728b493-c834-4668-8037-7fde6ebf57f6",
      "metadata": {
        "id": "3728b493-c834-4668-8037-7fde6ebf57f6",
        "outputId": "37d7e09c-1c44-45e9-bcf8-0729642300cd"
      },
      "outputs": [
        {
          "data": {
            "text/plain": [
              "39    285\n",
              "40    372\n",
              "41    480\n",
              "42    525\n",
              "43    772\n",
              "44    525\n",
              "45    772\n",
              "Name: Engine power [KM], dtype: int64"
            ]
          },
          "execution_count": 38,
          "metadata": {},
          "output_type": "execute_result"
        }
      ],
      "source": [
        "tesla_engine"
      ]
    },
    {
      "cell_type": "code",
      "execution_count": null,
      "id": "b19ce86e-70dd-4cf1-b7dc-b4037df0e483",
      "metadata": {
        "id": "b19ce86e-70dd-4cf1-b7dc-b4037df0e483",
        "outputId": "fb29365a-ac35-45e4-ecb3-34743368d5de"
      },
      "outputs": [
        {
          "data": {
            "text/plain": [
              "0    360\n",
              "1    313\n",
              "2    503\n",
              "3    313\n",
              "4    360\n",
              "5    503\n",
              "Name: Engine power [KM], dtype: int64"
            ]
          },
          "execution_count": 39,
          "metadata": {},
          "output_type": "execute_result"
        }
      ],
      "source": [
        "audi_engine"
      ]
    },
    {
      "cell_type": "code",
      "execution_count": null,
      "id": "fbf8571e-8039-4636-b558-c288526ab036",
      "metadata": {
        "id": "fbf8571e-8039-4636-b558-c288526ab036",
        "outputId": "15ea79ea-1741-4fdb-8c0c-8711a9676ca0"
      },
      "outputs": [
        {
          "name": "stdout",
          "output_type": "stream",
          "text": [
            "T-statistic: 1.7024\n",
            "P-value: 0.1167\n"
          ]
        }
      ],
      "source": [
        "t_stastic,p_value=stats.ttest_ind(tesla_engine,audi_engine)\n",
        "print(f\"T-statistic: {t_stastic:.4f}\")\n",
        "print(f\"P-value: {p_value:.4f}\")"
      ]
    },
    {
      "cell_type": "code",
      "execution_count": null,
      "id": "ce20988e-e5c8-4307-975d-2d4c3591934f",
      "metadata": {
        "id": "ce20988e-e5c8-4307-975d-2d4c3591934f",
        "outputId": "331ed5ee-24bf-45fc-cd3b-5b2f360188c7"
      },
      "outputs": [
        {
          "name": "stdout",
          "output_type": "stream",
          "text": [
            "Fail to reject the null hypothesis: No significant difference in the average engine power.\n"
          ]
        }
      ],
      "source": [
        "alpha = 0.05\n",
        "if p_value < alpha:\n",
        "    print(\"Reject the null hypothesis: There is a significant difference in the average engine power.\")\n",
        "else:\n",
        "    print(\"Fail to reject the null hypothesis: No significant difference in the average engine power.\")"
      ]
    },
    {
      "cell_type": "code",
      "execution_count": null,
      "id": "4137311c-9942-47ef-a575-78635a386dc8",
      "metadata": {
        "id": "4137311c-9942-47ef-a575-78635a386dc8",
        "outputId": "584b7ba8-18fa-4a89-f1b3-9a85b5545ef5"
      },
      "outputs": [
        {
          "data": {
            "image/png": "[encoded data removed]",
            "text/plain": [
              "<Figure size 800x600 with 1 Axes>"
            ]
          },
          "metadata": {},
          "output_type": "display_data"
        }
      ],
      "source": [
        "combined_df = vehicle_data[vehicle_data['Make'].isin(['Tesla', 'Audi'])][['Make', 'Engine power [KM]']].dropna()\n",
        "plt.figure(figsize=(8, 6))\n",
        "sns.boxplot(x='Make', y='Engine power [KM]', data=combined_df)\n",
        "plt.title('Comparison of Engine Power (KM) between Tesla and Audi')\n",
        "plt.ylabel('Engine Power [KM]')\n",
        "plt.xlabel('Brand')\n",
        "plt.grid(True)\n",
        "plt.show()"
      ]
    },
    {
      "cell_type": "markdown",
      "id": "ad2cb453-fb5d-4dd0-a715-e54d14b3ab71",
      "metadata": {
        "id": "ad2cb453-fb5d-4dd0-a715-e54d14b3ab71"
      },
      "source": [
        "### <span style=\"color:yellow\">OVERALL HYPOTHESIS SUMMARY"
      ]
    },
    {
      "cell_type": "markdown",
      "id": "b39b3b67-318b-4174-9e7d-00a747a58e7a",
      "metadata": {
        "id": "b39b3b67-318b-4174-9e7d-00a747a58e7a"
      },
      "source": [
        "#### <span style=\"color:yellow\">Objective</span> :-Check if there is a significant difference in average engine power [KM] between electric vehicles made by Tesla and Audi."
      ]
    },
    {
      "cell_type": "markdown",
      "id": "1a3505a6-191c-463b-9171-0374dad8a2a1",
      "metadata": {
        "id": "1a3505a6-191c-463b-9171-0374dad8a2a1"
      },
      "source": [
        "#### <span style=\"color:yellow\">Hypothesis:-\n",
        "- H₀ (Null): Tesla and Audi have the same average engine power.\n",
        "- H₁ (Alternative): Tesla and Audi have different average engine power.\n",
        "- Significance level (α): 0.05"
      ]
    },
    {
      "cell_type": "markdown",
      "id": "3d8fee36-05d0-4857-965e-4b4eb1efdf63",
      "metadata": {
        "id": "3d8fee36-05d0-4857-965e-4b4eb1efdf63"
      },
      "source": [
        "#### <span style=\"color:yellow\">Test Details\n",
        "- Test used -->Two sample independent t test\n",
        "- T_statstics -->1.7024\n",
        "- P-value -->0.1167\n",
        "- Significance level (α): 0.05"
      ]
    },
    {
      "cell_type": "markdown",
      "id": "8a07c651-ee07-4724-8f51-7b4098ca6c49",
      "metadata": {
        "id": "8a07c651-ee07-4724-8f51-7b4098ca6c49"
      },
      "source": [
        "#### <span style=\"color:yellow\">Insights from Hypothesis Test Results"
      ]
    },
    {
      "cell_type": "markdown",
      "id": "44be9f71-1865-486b-9f53-fa3b61eebbaa",
      "metadata": {
        "id": "44be9f71-1865-486b-9f53-fa3b61eebbaa"
      },
      "source": [
        "-  Statistically Similar Performance\n",
        "     - The hypothesis test showed no statistically significant difference in the average engine power (measured in KM) between Tesla and Audi electric         vehicles. This means:\n",
        "       While the raw averages might appear slightly different, the difference is not large enough to confidently say it's real — it could be due to            chance  in the sample data.\n",
        "      Statistically, we treat Tesla and Audi as offering similar engine power in their EVs.\n",
        "- Shift in Competitive Focus\n",
        "     - We saw from the hypothesis test that Tesla and Audi electric vehicles have similar engine power.This means They are not trying to compete by            just increasing horsepower (engine power) anymore.So, how are they competing now?They are shifting their focus to other important features that         matter more to EV buyers today:\n",
        "     - Battery Innovation\n",
        "       companies are work hard to give the best performanace\n",
        "       ** give the longer driving range\n",
        "       ** charge faster\n",
        "       ** makes the battery longer\n",
        "     - smart technology\n",
        "     - Interior design and comfort\n",
        "     - Brand values and Identity\n",
        "       Tesla’s image:Seen as a tech leader.Innovative, futuristic, bold. Appeals to people who love new technology.\n",
        "       Audi’s image:Known for premium quality and elegance.Appeals to customers who trust German engineering and want a luxurious fee\n",
        "- Communicating Real Value to Customers\n",
        "     - Audi and Tesla should use this insight in their marketing messages:\n",
        "    - Instead of saying “we’re more powerful,”\n",
        "     - Say “we’re more efficient,” “more intelligent,” or “more luxurious\n",
        "- Power ≠ Total Performance\n",
        "    - Horsepower is just one part. Real-world performance depends on acceleration, torque, energy efficiency, and how the car manages power — which this      test did not measure.\n",
        "\n",
        "\n"
      ]
    },
    {
      "cell_type": "markdown",
      "id": "380a379c-2f93-4389-b661-d8b59cde5312",
      "metadata": {
        "id": "380a379c-2f93-4389-b661-d8b59cde5312"
      },
      "source": [
        "#### <span style=\"color:yellow\">Recommendations"
      ]
    },
    {
      "cell_type": "markdown",
      "id": "5f476d79-1179-4098-9bf5-6e43904882c2",
      "metadata": {
        "id": "5f476d79-1179-4098-9bf5-6e43904882c2"
      },
      "source": [
        "- For customers\n",
        "  - since telsa and audi offer same engine power stastically ,customers do not base decisions on horse power only.\n",
        "  - Insted of concider\n",
        "  - battery range and efficiency\n",
        "  - charging speed\n",
        "  - smart features\n",
        "  - comfort zone and interior design\n",
        "  - software and new technology\n",
        "  customer see the all the features not only the horse power or engine power\n",
        "- Focus on Differentiation Beyond Engine Power\n",
        "  - our analysis shows that Tesla and Audi have similar engine power in their electric vehicles.\n",
        "    So, engine power is no longer a major point of competition between these brands\n",
        "  - Tesla should focus on:\n",
        "    - Smart Software & AI\n",
        "    - Improve features like Autopilot, self-parking, and AI-based route suggestions.\n",
        "    - Lead in vehicle software updates and over-the-air improvements.\n",
        "    - Global Charging Network\n",
        "    - Expand Tesla Superchargers worldwide.\n",
        "    - Ensure faster, more accessible charging — a key buying factor.\n",
        "- Audi should focus on:\n",
        "   - Luxury and Comfort\n",
        "       - Highlight premium interiors, quality materials, and quiet cabins.\n",
        "       - Offer a refined driving experience that appeals to comfort-seeking buyers.\n",
        "   - Brand Heritage & Trust\n",
        "      - Use Audi’s strong reputation for build quality and German engineering.\n",
        "      - Appeal to buyers who trust established luxury brands.\n",
        "- These recommendations will attract the more customers\n",
        "- Collect more data for advanced analysis\n",
        "  - to draw the conclucisons strong ,collect more global data\n",
        "  - as well as collect the  customer feedback,based on the users feedback we can more and more features.\n",
        "- Explain what's the use of this electrical vachicles\n",
        "  becacause when compare to the Disel and petrol this are the very eco friendly\n",
        "- Increase the customer service\n",
        "- Government Collaboration and Incentives\n",
        "   - Partner with governments and city planners to:\n",
        "    - Set up EV-friendly infrastructure (charging stations, tax rebates, priority parking).\n",
        "    - Take part in public transport electrification initiatives.\n",
        "    - Advocate for EV incentives and policies to grow adoption."
      ]
    },
    {
      "cell_type": "markdown",
      "id": "21e011fa-725c-4b67-bb6f-71c4c6c63d96",
      "metadata": {
        "id": "21e011fa-725c-4b67-bb6f-71c4c6c63d96"
      },
      "source": [
        "#### <span style=\"color:yellow\">Conclusion</span> :-\n",
        "Since P-value (0.1167) > α (0.05), we fail to reject the null hypothesis.\n",
        "test showed:\n",
        "- The p-value is 0.1167.\n",
        "\n",
        "- The significance level (α) is 0.05 (5%).\n",
        "\n",
        "- Since the p-value (0.1167) is greater than 0.05, it means:\n",
        "\n",
        "- We do NOT have enough proof to say Tesla and Audi engine powers are different.\n",
        "\n",
        "- The difference we see in the data might just be by random chance or natural variation.\n",
        "\n",
        "- Tesla and Audi electric vehicles have similar engine power on average.\n",
        "\n"
      ]
    }
  ],
  "metadata": {
    "kernelspec": {
      "display_name": "Python [conda env:base] *",
      "language": "python",
      "name": "conda-base-py"
    },
    "language_info": {
      "codemirror_mode": {
        "name": "ipython",
        "version": 3
      },
      "file_extension": ".py",
      "mimetype": "text/x-python",
      "name": "python",
      "nbconvert_exporter": "python",
      "pygments_lexer": "ipython3",
      "version": "3.12.7"
    },
    "colab": {
      "provenance": []
    }
  },
  "nbformat": 4,
  "nbformat_minor": 5
}